{
 "cells": [
  {
   "cell_type": "code",
   "execution_count": 4,
   "metadata": {},
   "outputs": [],
   "source": [
    "import requests\n",
    "from bs4 import BeautifulSoup\n",
    "from tqdm.notebook import tqdm\n",
    "\n",
    "n_page = 5\n",
    "\n",
    "base_url = 'https://flixable.com/?min-rating=0&min-year=0&max-year=3000&order=date&page={page_number}'\n",
    "\n",
    "movie_title_selector = '.title'\n",
    "movie_info_selector = '.col-md-8'\n",
    "\n",
    "# BAD STUFF BELOW....\n",
    "# TODO: This needs to be reworked to handle differing structure on different movie pages\n",
    "# --------------------------------------------------------------------------------------\n",
    "# genre_selector = ''\n",
    "# director_selector = '.mb-2:nth-child(4) a'\n",
    "# cast_selector = '.mb-2:nth-child(4) a'\n",
    "# date_added_selector = '.mb-4 span:nth-child(2)'\n",
    "# release_date = '.mb-2:nth-child(1) .mr-2:nth-child(1)'\n",
    "# rating_selector = '.px-1'\n",
    "# duration_selector = '.font-weight-bold:nth-child(3)'"
   ]
  },
  {
   "cell_type": "code",
   "execution_count": 5,
   "metadata": {},
   "outputs": [],
   "source": [
    "def get_movie_page_urls(flixable_url):\n",
    "    # Get home page html\n",
    "    response = requests.get(flixable_url)\n",
    "    page_html = response.text\n",
    "    page_soup = BeautifulSoup(page_html)\n",
    "\n",
    "    # Select title links\n",
    "    movie_titles = page_soup.select(movie_title_selector)\n",
    "\n",
    "    # Build movie page urls\n",
    "    movie_page_urls = {}\n",
    "    for movie_title in movie_titles:\n",
    "        key = movie_title.text\n",
    "        movie_page_url = 'https://flixable.com' + movie_title['href']\n",
    "        movie_page_urls[key] = movie_page_url\n",
    "    \n",
    "    return movie_page_urls"
   ]
  },
  {
   "cell_type": "code",
   "execution_count": null,
   "metadata": {},
   "outputs": [],
   "source": [
    "movie_urls = {}\n",
    "for i in tqdm(range(n_page)):\n",
    "    url = base_url.format(page_number=i + 1)\n",
    "    urls = get_movie_page_urls(url)\n",
    "    movie_urls.update(urls)"
   ]
  },
  {
   "cell_type": "code",
   "execution_count": 15,
   "metadata": {
    "pycharm": {
     "name": "#%%\n"
    }
   },
   "outputs": [],
   "source": [
    "for movie_title, movie_url in movie_urls.items():\n",
    "    # Get movie page html\n",
    "    response = requests.get(movie_url)\n",
    "    page_html = response.text\n",
    "    page_soup = BeautifulSoup(page_html)\n",
    "    \n",
    "    # TODO: write code to pull info from movie_info_soup\n",
    "    movie_info_soup = page_soup.select_one(movie_info_selector)\n"
   ]
  }
 ],
 "metadata": {
  "kernelspec": {
   "display_name": "Python 3",
   "language": "python",
   "name": "python3"
  },
  "language_info": {
   "codemirror_mode": {
    "name": "ipython",
    "version": 3
   },
   "file_extension": ".py",
   "mimetype": "text/x-python",
   "name": "python",
   "nbconvert_exporter": "python",
   "pygments_lexer": "ipython3",
   "version": "3.7.6"
  },
  "pycharm": {
   "stem_cell": {
    "cell_type": "raw",
    "source": [],
    "metadata": {
     "collapsed": false
    }
   }
  }
 },
 "nbformat": 4,
 "nbformat_minor": 2
}