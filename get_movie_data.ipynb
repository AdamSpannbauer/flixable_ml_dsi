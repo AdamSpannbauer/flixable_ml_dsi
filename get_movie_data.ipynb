{
 "cells": [
  {
   "cell_type": "markdown",
   "metadata": {},
   "source": [
    "## Imports and script params/constants"
   ]
  },
  {
   "cell_type": "code",
   "execution_count": 1,
   "metadata": {},
   "outputs": [],
   "source": [
    "import json\n",
    "from datetime import datetime\n",
    "import requests\n",
    "from bs4 import BeautifulSoup\n",
    "import numpy as np\n",
    "import pandas as pd\n",
    "\n",
    "# Read API key from file that is in .gitignore to avoid sharing key\n",
    "# Generically named `api_keys.json` in case more APIs are introduced\n",
    "with open('api_keys.json', 'r') as f:\n",
    "    API_KEYS = json.load(f)\n",
    "    \n",
    "\n",
    "timestamp = datetime.now().strftime('%Y_%m_%d_%H_%M_%S')\n",
    "OUTPUT_CSV = f'data/movies_{timestamp}.csv'\n",
    "N_PAGES = 30\n",
    "\n",
    "\n",
    "FLIXABLE_REQUEST_URL = 'http://www.flixable.com'\n",
    "MOVIE_TITLE_SELECTOR = '.title'\n",
    "\n",
    "OMDB_REQUEST_URL = 'http://www.omdbapi.com'\n",
    "OMDB_API_KEY = API_KEYS['omdb_key']"
   ]
  },
  {
   "cell_type": "markdown",
   "metadata": {},
   "source": [
    "## Helper functions"
   ]
  },
  {
   "cell_type": "code",
   "execution_count": 2,
   "metadata": {},
   "outputs": [],
   "source": [
    "def get_flixable_movie_urls(params):\n",
    "    \"\"\"Given a page of flixable styled like the home page; scrape movie page urls\n",
    "    \n",
    "    :param params: dictionary of parameters to filter movie pages.\n",
    "                   example parameters:\n",
    "                     * page\n",
    "                     * min-rating\n",
    "                     * min-year\n",
    "                     * max-year\n",
    "    \"\"\"\n",
    "    # Get home page html\n",
    "    response = requests.get(FLIXABLE_REQUEST_URL, params=params)\n",
    "    page_html = response.text\n",
    "    page_soup = BeautifulSoup(page_html)\n",
    "\n",
    "    # Select title links\n",
    "    movie_titles = page_soup.select(MOVIE_TITLE_SELECTOR)\n",
    "\n",
    "    # Build movie page urls\n",
    "    movie_page_urls = {}\n",
    "    for movie_title in movie_titles:\n",
    "        key = movie_title.text\n",
    "        movie_page_url = FLIXABLE_REQUEST_URL + movie_title['href']\n",
    "        movie_page_urls[key] = movie_page_url\n",
    "    \n",
    "    return movie_page_urls\n",
    "\n",
    "\n",
    "def get_extra_info(title, year):\n",
    "    \"\"\"Make API request to OMDB API\n",
    "    \n",
    "    :param title: name of movie/series to request\n",
    "    :param year: year of the movie/series\n",
    "    :return: dict with OMDB info; blank dict if API request failed\n",
    "    \"\"\"\n",
    "    params = {'t': title, 'y': year, 'apikey': OMDB_API_KEY}\n",
    "    response = requests.get(OMDB_REQUEST_URL, params=params)\n",
    "    \n",
    "    # When movie not found response.json() is:\n",
    "    # {'Response': 'False', 'Error': 'Movie not found!'}\n",
    "    # Check if this is the case in addition to response.ok\n",
    "    if response.ok and 'Error' not in response.json().keys():\n",
    "        return response.json()\n",
    "    \n",
    "    # Default value\n",
    "    return {}\n",
    "\n",
    "\n",
    "def get_info(flixable_urls):\n",
    "    \"\"\"Get Netflix item's info from flixable and OMDB\n",
    "    \n",
    "    :param flixable_urls: list of flixable urls (example: ['https://flixable.com/title/81116576/'])\n",
    "    :return: pd.DataFrame with a record for each url.  \n",
    "             Failed records will only have the url column be non nan.\n",
    "    \"\"\"\n",
    "    info_dicts = []\n",
    "    for url in flixable_urls:\n",
    "        default_info_dict = {'flixable_url': url}\n",
    "        response = requests.get(url)\n",
    "        \n",
    "        # If failed, add default record and go to next url\n",
    "        if not response.ok:\n",
    "            info_dicts.append(default_info_dict)\n",
    "            continue\n",
    "            \n",
    "        html = response.text\n",
    "        soup = BeautifulSoup(html)\n",
    "\n",
    "        # Get info from flixable page\n",
    "        # This might fail in case of bad url\n",
    "        # Instead of giving a 404, flixable redirects bad urls. \n",
    "        # example: https://flixable.com/title/AdamWuzHere/\n",
    "        try:\n",
    "            title = soup.find('h1', {'class': 'mb-3'}).text.strip()\n",
    "            year = soup.find('span', {'class': 'font-weight-bold mr-2'}).text\n",
    "            mpaa_rating = soup.find('span', {'class': 'border border-dark rounded font-weight-bold px-1 mr-2'}).text\n",
    "\n",
    "            added_to_netflix = soup.find(\"div\", {\"class\": \"mb-4\"}).text\n",
    "            added_to_netflix = added_to_netflix.split(':')[1].strip()\n",
    "        except AttributeError:\n",
    "            # If failed, add default record and go to next url\n",
    "            info_dicts.append(default_info_dict)\n",
    "            continue\n",
    "\n",
    "        # Get info from OMDB\n",
    "        info_dict = get_extra_info(title, year)\n",
    "\n",
    "        # Use flixable title/year instead of OMDB in case OMDB failed\n",
    "        info_dict['Title'] = title\n",
    "        info_dict['Year'] = year\n",
    "\n",
    "        # Add flixable info to OMDB data\n",
    "        info_dict['mpaa_rating'] = mpaa_rating\n",
    "        info_dict['added_to_netflix'] = added_to_netflix\n",
    "        info_dict['flixable_url'] = url\n",
    "\n",
    "        # Store what will be a row in the end dataframe\n",
    "        info_dicts.append(info_dict)\n",
    "    \n",
    "    return pd.DataFrame(info_dicts)"
   ]
  },
  {
   "cell_type": "markdown",
   "metadata": {},
   "source": [
    "## Test cases for functions"
   ]
  },
  {
   "cell_type": "code",
   "execution_count": 3,
   "metadata": {},
   "outputs": [],
   "source": [
    "# # Create test cases to cover the expected exception (not on OMDB)\n",
    "# # Also included an unexpected exception (bad flixable url)\n",
    "# movie_on_omdb = 'https://flixable.com/title/81116576/'\n",
    "# movie_not_on_omdb = 'https://flixable.com/title/81226955/'\n",
    "# bad_flixable_url = 'https://flixable.com/title/AdamWuzHere/'\n",
    "\n",
    "# urls = [movie_on_omdb, movie_not_on_omdb, bad_flixable_url]\n",
    "\n",
    "# # Test\n",
    "# get_info(urls)"
   ]
  },
  {
   "cell_type": "markdown",
   "metadata": {},
   "source": [
    "## Perform Scrape"
   ]
  },
  {
   "cell_type": "code",
   "execution_count": 12,
   "metadata": {},
   "outputs": [],
   "source": [
    "flixable_params = {'min-rating': 0, \n",
    "                   'min-year': 0, \n",
    "                   'max-year': 3000, \n",
    "                   'order': 'date', \n",
    "                   'page': 1}\n",
    "\n",
    "movie_urls = []\n",
    "for page in range(1, N_PAGES + 1):\n",
    "    flixable_params['page'] = page\n",
    "    movie_url_dict = get_flixable_movie_urls(flixable_params)\n",
    "    movie_urls.extend(movie_url.values())\n",
    "\n",
    "movie_info_df = get_info(movie_urls)\n",
    "movie_info_df.to_csv(OUTPUT_CSV, index=False)"
   ]
  }
 ],
 "metadata": {
  "kernelspec": {
   "display_name": "Python 3",
   "language": "python",
   "name": "python3"
  },
  "language_info": {
   "codemirror_mode": {
    "name": "ipython",
    "version": 3
   },
   "file_extension": ".py",
   "mimetype": "text/x-python",
   "name": "python",
   "nbconvert_exporter": "python",
   "pygments_lexer": "ipython3",
   "version": "3.7.6"
  },
  "pycharm": {
   "stem_cell": {
    "cell_type": "raw",
    "metadata": {
     "collapsed": false
    },
    "source": []
   }
  }
 },
 "nbformat": 4,
 "nbformat_minor": 4
}
