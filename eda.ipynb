{
  "nbformat": 4,
  "nbformat_minor": 0,
  "metadata": {
    "kernelspec": {
      "display_name": "Python 3",
      "language": "python",
      "name": "python3"
    },
    "language_info": {
      "codemirror_mode": {
        "name": "ipython",
        "version": 3
      },
      "file_extension": ".py",
      "mimetype": "text/x-python",
      "name": "python",
      "nbconvert_exporter": "python",
      "pygments_lexer": "ipython3",
      "version": "3.7.6"
    },
    "colab": {
      "name": "eda.ipynb",
      "provenance": []
    }
  },
  "cells": [
    {
      "cell_type": "code",
      "metadata": {
        "id": "xjdP8xnEqwZw",
        "colab_type": "code",
        "colab": {}
      },
      "source": [
        "import glob\n",
        "import json\n",
        "import warnings\n",
        "\n",
        "import pandas as pd\n",
        "import numpy as np\n",
        "\n",
        "from sklearn.model_selection import train_test_split, GridSearchCV\n",
        "from xgboost import XGBRegressor\n",
        "\n",
        "import seaborn as sns\n",
        "import matplotlib.pyplot as plt\n",
        "import plotly.express as px\n",
        "%matplotlib inline\n",
        "\n",
        "warnings.simplefilter(action='ignore', category=FutureWarning)\n",
        "\n",
        "\n",
        "csv_files = glob.glob('data/movies_*.csv')\n",
        "\n",
        "dfs = []\n",
        "for csv_file in csv_files:\n",
        "    df = pd.read_csv(csv_file)\n",
        "    dfs.append(df)\n",
        "    \n",
        "movie = pd.concat(dfs)\n",
        "movie = movie.drop_duplicates().reset_index(drop=True)\n",
        "\n",
        "movie.shape\n",
        "\n",
        "\n",
        "#movie = pd.read_csv(\"https://raw.githubusercontent.com/fescobar96/flixable_ml_dsi/master/data/movies_2020_01_23_13_15_04.csv\")"
      ],
      "execution_count": 0,
      "outputs": []
    },
    {
      "cell_type": "markdown",
      "metadata": {
        "id": "6Z0FKzARqwZ4",
        "colab_type": "text"
      },
      "source": [
        "## Data Cleaning"
      ]
    },
    {
      "cell_type": "code",
      "metadata": {
        "id": "LwqKbYVVqwZ5",
        "colab_type": "code",
        "colab": {}
      },
      "source": [
        "def str_get_dummies(df, columns, sep=',', drop_first=False, prefix=None, prefix_sep='_'):\n",
        "    \"\"\"Wrapper of pd.Series.str.get_dummies() to behave like pd.get_dummies()\"\"\"\n",
        "    for p, col in zip(prefix, columns):\n",
        "        str_dummy_df = df[col].str.get_dummies(sep=sep)\n",
        "        \n",
        "        if prefix is not None:\n",
        "            prefixed_cols = [prefix_sep.join([p, c]) for c in str_dummy_df.columns]\n",
        "            str_dummy_df.columns = prefixed_cols\n",
        "        \n",
        "        if drop_first:\n",
        "            first_col = str_dummy_df.columns[0]\n",
        "            str_dummy_df = str_dummy_df.drop(columns=[first_col])\n",
        "        \n",
        "        df = df.drop(columns=[col])\n",
        "        df = pd.concat((df, str_dummy_df), axis=1)\n",
        "\n",
        "    return df\n",
        "\n",
        "\n",
        "def extract_rotten_rating(rating_list):\n",
        "    \"\"\"Extract info from ratings column using pd.Series.apply()\"\"\"\n",
        "    try:\n",
        "        ratings = json.loads(rating_list.replace(\"'\", '\"'))\n",
        "        for rating in ratings:\n",
        "            if rating['Source'] == 'Rotten Tomatoes':\n",
        "                return float(rating['Value'].replace('%', ''))\n",
        "    except AttributeError:\n",
        "        return np.nan"
      ],
      "execution_count": 0,
      "outputs": []
    },
    {
      "cell_type": "code",
      "metadata": {
        "id": "eiSEqHoZqwZ9",
        "colab_type": "code",
        "colab": {}
      },
      "source": [
        "# Custom function to extract rotten tomatoes ratings\n",
        "movie['rotten_tomatoes'] = movie['Ratings'].apply(extract_rotten_rating)\n",
        "\n",
        "# Convert numeric columns stored as strings\n",
        "movie['Runtime'] = pd.to_numeric(movie['Runtime'].str.split(' ').str[0])\n",
        "movie['BoxOffice'] = pd.to_numeric(movie['BoxOffice'].str.replace(r'[\\$,]', ''))\n",
        "movie['imdbVotes'] = pd.to_numeric(movie['imdbVotes'].str.replace(',', ''))\n",
        "\n",
        "# Convert datetime columns stored as strings\n",
        "movie['Released'] = pd.to_datetime(movie['Released'])\n",
        "movie['added_to_netflix'] = pd.to_datetime(movie['added_to_netflix'])\n",
        "movie['added_to_netflix_year'] = movie['added_to_netflix'].dt.year\n",
        "\n",
        "# Extract numbers from Awards columns\n",
        "movie['award_wins'] = movie['Awards'].str.extract(r'(\\d) win').astype(float)\n",
        "movie['award_noms'] = movie['Awards'].str.extract(r'(\\d) nomination').astype(float)\n",
        "movie['oscar_wins'] = movie['Awards'].str.extract(r'Nominated for (\\d) Oscar').astype(float)\n",
        "\n",
        "award_cols = ['award_wins', 'award_noms', 'oscar_wins']\n",
        "movie[award_cols] = movie[award_cols].fillna(0)"
      ],
      "execution_count": 0,
      "outputs": []
    },
    {
      "cell_type": "code",
      "metadata": {
        "id": "CA1kTWnYqwaA",
        "colab_type": "code",
        "colab": {}
      },
      "source": [
        "drop_columns = ['Poster', 'flixable_url', 'Response', \n",
        "                'Awards', 'Rated', 'imdbID', 'DVD', 'Website',\n",
        "                'BoxOffice', 'Released', 'added_to_netflix',\n",
        "                'Writer', 'Actors', 'Plot',\n",
        "                'rotten_tomatoes', 'Metascore', 'Production',\n",
        "                'totalSeasons', 'Runtime', 'Director',\n",
        "                'Title', 'Ratings']\n",
        "\n",
        "movie = movie.drop(columns=drop_columns)"
      ],
      "execution_count": 0,
      "outputs": []
    },
    {
      "cell_type": "code",
      "metadata": {
        "id": "AgHxQRYZqwaE",
        "colab_type": "code",
        "colab": {}
      },
      "source": [
        "list_cols = ['Genre', 'Language', 'Country']\n",
        "\n",
        "movie_dummy = str_get_dummies(movie, \n",
        "                              columns=list_cols, \n",
        "                              sep=', ', \n",
        "                              prefix=list_cols, \n",
        "                              drop_first=False)"
      ],
      "execution_count": 0,
      "outputs": []
    },
    {
      "cell_type": "code",
      "metadata": {
        "id": "unXGA3-PqwaI",
        "colab_type": "code",
        "colab": {}
      },
      "source": [
        "movie_dummy = movie_dummy.dropna(subset=['imdbRating'])"
      ],
      "execution_count": 0,
      "outputs": []
    },
    {
      "cell_type": "code",
      "metadata": {
        "id": "Leyz3k-6qwaN",
        "colab_type": "code",
        "colab": {
          "base_uri": "https://localhost:8080/",
          "height": 235
        },
        "outputId": "862b10b5-8b42-4470-bb13-91115e20cd66"
      },
      "source": [
        "movie_dummy.isna().mean().sort_values(ascending=False)"
      ],
      "execution_count": 9,
      "outputs": [
        {
          "output_type": "execute_result",
          "data": {
            "text/plain": [
              "Country_Zimbabwe                  0.0\n",
              "Language_Hokkien                  0.0\n",
              "Language_Kriolu                   0.0\n",
              "Language_Korean                   0.0\n",
              "Language_Khmer                    0.0\n",
              "                                 ... \n",
              "Country_Bosnia and Herzegovina    0.0\n",
              "Country_Bermuda                   0.0\n",
              "Country_Belgium                   0.0\n",
              "Country_Bangladesh                0.0\n",
              "Type                              0.0\n",
              "Length: 271, dtype: float64"
            ]
          },
          "metadata": {
            "tags": []
          },
          "execution_count": 9
        }
      ]
    },
    {
      "cell_type": "markdown",
      "metadata": {
        "id": "ey3-8ZZ-qwaR",
        "colab_type": "text"
      },
      "source": [
        "## EDA"
      ]
    },
    {
      "cell_type": "code",
      "metadata": {
        "id": "_TeT1DMVqwaS",
        "colab_type": "code",
        "colab": {}
      },
      "source": [
        "def barplot_dummies(df, prefix, max_n=15):\n",
        "    cols = [c for c in df if c.startswith(prefix)]\n",
        "    counts = df[cols].sum().sort_values(ascending=False)\n",
        "    counts = counts[:max_n]\n",
        "    counts.index = [i.replace(prefix, '') for i in counts.index]\n",
        "    counts.plot.barh()\n",
        "    plt.title(prefix)\n",
        "    plt.show()"
      ],
      "execution_count": 0,
      "outputs": []
    },
    {
      "cell_type": "code",
      "metadata": {
        "scrolled": true,
        "id": "IrqKpHBWqwaW",
        "colab_type": "code",
        "colab": {
          "base_uri": "https://localhost:8080/",
          "height": 598
        },
        "outputId": "22ed0ae0-7743-4fde-b89f-97e87175ef7c"
      },
      "source": [
        "plot_cols = ['Type', 'mpaa_rating']\n",
        "for plot_col in plot_cols:\n",
        "    fig = sns.countplot(plot_col, data=movie)\n",
        "    fig.set_xticklabels(fig.get_xticklabels(), rotation=90)\n",
        "    plt.show()"
      ],
      "execution_count": 11,
      "outputs": [
        {
          "output_type": "display_data",
          "data": {
            "image/png": "[encoded data removed]",
            "text/plain": [
              "<Figure size 432x288 with 1 Axes>"
            ]
          },
          "metadata": {
            "tags": []
          }
        },
        {
          "output_type": "display_data",
          "data": {
            "image/png": "[encoded data removed]",
            "text/plain": [
              "<Figure size 432x288 with 1 Axes>"
            ]
          },
          "metadata": {
            "tags": []
          }
        }
      ]
    },
    {
      "cell_type": "code",
      "metadata": {
        "scrolled": true,
        "id": "Pa0sBihTqwab",
        "colab_type": "code",
        "colab": {
          "base_uri": "https://localhost:8080/",
          "height": 809
        },
        "outputId": "ff2ba75a-c043-4bfe-c268-9d723f5c7aba"
      },
      "source": [
        "prefixes = ['Genre_', 'Country_', 'Language_']\n",
        "for prefix in prefixes:\n",
        "    barplot_dummies(movie_dummy, prefix)"
      ],
      "execution_count": 12,
      "outputs": [
        {
          "output_type": "display_data",
          "data": {
            "image/png": "[encoded data removed]",
            "text/plain": [
              "<Figure size 432x288 with 1 Axes>"
            ]
          },
          "metadata": {
            "tags": []
          }
        },
        {
          "output_type": "display_data",
          "data": {
            "image/png": "[encoded data removed]",
            "text/plain": [
              "<Figure size 432x288 with 1 Axes>"
            ]
          },
          "metadata": {
            "tags": []
          }
        },
        {
          "output_type": "display_data",
          "data": {
            "image/png": "[encoded data removed]",
            "text/plain": [
              "<Figure size 432x288 with 1 Axes>"
            ]
          },
          "metadata": {
            "tags": []
          }
        }
      ]
    },
    {
      "cell_type": "code",
      "metadata": {
        "scrolled": true,
        "id": "7Gbv5q0Mqwaf",
        "colab_type": "code",
        "colab": {
          "base_uri": "https://localhost:8080/",
          "height": 365
        },
        "outputId": "fdd05a8d-eb0e-4738-b0a8-4d484ebc2200"
      },
      "source": [
        "sns.heatmap(movie.corr(), vmin=-1, vmax=1)\n",
        "plt.show()"
      ],
      "execution_count": 13,
      "outputs": [
        {
          "output_type": "display_data",
          "data": {
            "image/png": "[encoded data removed]",
            "text/plain": [
              "<Figure size 432x288 with 2 Axes>"
            ]
          },
          "metadata": {
            "tags": []
          }
        }
      ]
    },
    {
      "cell_type": "code",
      "metadata": {
        "id": "RV4TQ-UVvRP4",
        "colab_type": "code",
        "colab": {
          "base_uri": "https://localhost:8080/",
          "height": 198
        },
        "outputId": "d571ecb8-65cf-48fe-8b85-ab8df7a0a182"
      },
      "source": [
        "movie_countries = movie[pd.notnull(movie[\"Country\"])]\n",
        "movie_countries.head()"
      ],
      "execution_count": 38,
      "outputs": [
        {
          "output_type": "execute_result",
          "data": {
            "text/html": [
              "<div>\n",
              "<style scoped>\n",
              "    .dataframe tbody tr th:only-of-type {\n",
              "        vertical-align: middle;\n",
              "    }\n",
              "\n",
              "    .dataframe tbody tr th {\n",
              "        vertical-align: top;\n",
              "    }\n",
              "\n",
              "    .dataframe thead th {\n",
              "        text-align: right;\n",
              "    }\n",
              "</style>\n",
              "<table border=\"1\" class=\"dataframe\">\n",
              "  <thead>\n",
              "    <tr style=\"text-align: right;\">\n",
              "      <th></th>\n",
              "      <th>Country</th>\n",
              "      <th>Genre</th>\n",
              "      <th>Language</th>\n",
              "      <th>Type</th>\n",
              "      <th>Year</th>\n",
              "      <th>imdbRating</th>\n",
              "      <th>imdbVotes</th>\n",
              "      <th>mpaa_rating</th>\n",
              "      <th>added_to_netflix_year</th>\n",
              "      <th>award_wins</th>\n",
              "      <th>award_noms</th>\n",
              "      <th>oscar_wins</th>\n",
              "    </tr>\n",
              "  </thead>\n",
              "  <tbody>\n",
              "    <tr>\n",
              "      <th>0</th>\n",
              "      <td>Brazil</td>\n",
              "      <td>Comedy, Romance</td>\n",
              "      <td>NaN</td>\n",
              "      <td>movie</td>\n",
              "      <td>2020.0</td>\n",
              "      <td>NaN</td>\n",
              "      <td>NaN</td>\n",
              "      <td>TV-PG</td>\n",
              "      <td>2020.0</td>\n",
              "      <td>0.0</td>\n",
              "      <td>0.0</td>\n",
              "      <td>0.0</td>\n",
              "    </tr>\n",
              "    <tr>\n",
              "      <th>1</th>\n",
              "      <td>Mexico</td>\n",
              "      <td>Comedy</td>\n",
              "      <td>Spanish</td>\n",
              "      <td>movie</td>\n",
              "      <td>2020.0</td>\n",
              "      <td>NaN</td>\n",
              "      <td>NaN</td>\n",
              "      <td>TV-MA</td>\n",
              "      <td>2020.0</td>\n",
              "      <td>0.0</td>\n",
              "      <td>0.0</td>\n",
              "      <td>0.0</td>\n",
              "    </tr>\n",
              "    <tr>\n",
              "      <th>6</th>\n",
              "      <td>USA</td>\n",
              "      <td>Documentary</td>\n",
              "      <td>English</td>\n",
              "      <td>movie</td>\n",
              "      <td>1968.0</td>\n",
              "      <td>7.5</td>\n",
              "      <td>153.0</td>\n",
              "      <td>TV-14</td>\n",
              "      <td>2020.0</td>\n",
              "      <td>0.0</td>\n",
              "      <td>0.0</td>\n",
              "      <td>0.0</td>\n",
              "    </tr>\n",
              "    <tr>\n",
              "      <th>7</th>\n",
              "      <td>USA</td>\n",
              "      <td>Documentary</td>\n",
              "      <td>English</td>\n",
              "      <td>series</td>\n",
              "      <td>2020.0</td>\n",
              "      <td>NaN</td>\n",
              "      <td>NaN</td>\n",
              "      <td>TV-14</td>\n",
              "      <td>2020.0</td>\n",
              "      <td>0.0</td>\n",
              "      <td>0.0</td>\n",
              "      <td>0.0</td>\n",
              "    </tr>\n",
              "    <tr>\n",
              "      <th>8</th>\n",
              "      <td>USA</td>\n",
              "      <td>Comedy, Family</td>\n",
              "      <td>English</td>\n",
              "      <td>movie</td>\n",
              "      <td>2019.0</td>\n",
              "      <td>4.7</td>\n",
              "      <td>2557.0</td>\n",
              "      <td>TV-MA</td>\n",
              "      <td>2020.0</td>\n",
              "      <td>0.0</td>\n",
              "      <td>0.0</td>\n",
              "      <td>0.0</td>\n",
              "    </tr>\n",
              "  </tbody>\n",
              "</table>\n",
              "</div>"
            ],
            "text/plain": [
              "  Country            Genre Language  ... award_wins  award_noms  oscar_wins\n",
              "0  Brazil  Comedy, Romance      NaN  ...        0.0         0.0         0.0\n",
              "1  Mexico           Comedy  Spanish  ...        0.0         0.0         0.0\n",
              "6     USA      Documentary  English  ...        0.0         0.0         0.0\n",
              "7     USA      Documentary  English  ...        0.0         0.0         0.0\n",
              "8     USA   Comedy, Family  English  ...        0.0         0.0         0.0\n",
              "\n",
              "[5 rows x 12 columns]"
            ]
          },
          "metadata": {
            "tags": []
          },
          "execution_count": 38
        }
      ]
    },
    {
      "cell_type": "code",
      "metadata": {
        "id": "-gTSb7mXxStk",
        "colab_type": "code",
        "colab": {
          "base_uri": "https://localhost:8080/",
          "height": 198
        },
        "outputId": "a3c66677-1688-44e5-ab88-fed0c2a7c5f0"
      },
      "source": [
        "data = movie_countries.groupby(\"added_to_netflix_year\")[\"Country\"].value_counts(normalize=True).reset_index(name=\"Percentage\")\n",
        "data[\"Percentage\"] = data[\"Percentage\"] * 100\n",
        "data[\"added_to_netflix_year\"] = data[\"added_to_netflix_year\"].astype(\"int\")\n",
        "data.head()"
      ],
      "execution_count": 63,
      "outputs": [
        {
          "output_type": "execute_result",
          "data": {
            "text/html": [
              "<div>\n",
              "<style scoped>\n",
              "    .dataframe tbody tr th:only-of-type {\n",
              "        vertical-align: middle;\n",
              "    }\n",
              "\n",
              "    .dataframe tbody tr th {\n",
              "        vertical-align: top;\n",
              "    }\n",
              "\n",
              "    .dataframe thead th {\n",
              "        text-align: right;\n",
              "    }\n",
              "</style>\n",
              "<table border=\"1\" class=\"dataframe\">\n",
              "  <thead>\n",
              "    <tr style=\"text-align: right;\">\n",
              "      <th></th>\n",
              "      <th>added_to_netflix_year</th>\n",
              "      <th>Country</th>\n",
              "      <th>Percentage</th>\n",
              "    </tr>\n",
              "  </thead>\n",
              "  <tbody>\n",
              "    <tr>\n",
              "      <th>0</th>\n",
              "      <td>2008</td>\n",
              "      <td>USA</td>\n",
              "      <td>100.000000</td>\n",
              "    </tr>\n",
              "    <tr>\n",
              "      <th>1</th>\n",
              "      <td>2009</td>\n",
              "      <td>Denmark</td>\n",
              "      <td>50.000000</td>\n",
              "    </tr>\n",
              "    <tr>\n",
              "      <th>2</th>\n",
              "      <td>2009</td>\n",
              "      <td>USA</td>\n",
              "      <td>50.000000</td>\n",
              "    </tr>\n",
              "    <tr>\n",
              "      <th>3</th>\n",
              "      <td>2010</td>\n",
              "      <td>USA</td>\n",
              "      <td>100.000000</td>\n",
              "    </tr>\n",
              "    <tr>\n",
              "      <th>4</th>\n",
              "      <td>2011</td>\n",
              "      <td>USA</td>\n",
              "      <td>90.909091</td>\n",
              "    </tr>\n",
              "  </tbody>\n",
              "</table>\n",
              "</div>"
            ],
            "text/plain": [
              "   added_to_netflix_year  Country  Percentage\n",
              "0                   2008      USA  100.000000\n",
              "1                   2009  Denmark   50.000000\n",
              "2                   2009      USA   50.000000\n",
              "3                   2010      USA  100.000000\n",
              "4                   2011      USA   90.909091"
            ]
          },
          "metadata": {
            "tags": []
          },
          "execution_count": 63
        }
      ]
    },
    {
      "cell_type": "code",
      "metadata": {
        "id": "yiTwl2b2wA0G",
        "colab_type": "code",
        "colab": {
          "base_uri": "https://localhost:8080/",
          "height": 542
        },
        "outputId": "a654bd84-808f-491d-ab6c-68ce1f5aded1"
      },
      "source": [
        "fig = px.choropleth(data, locations=\"Country\", color=\"Percentage\", \n",
        "                    locationmode=\"country names\",\n",
        "                    animation_frame=\"added_to_netflix_year\",\n",
        "                    range_color=[0,100],\n",
        "                   )\n",
        "\n",
        "fig.update_layout(title=\"Percentage of Content Added to Netflix by Country\")\n",
        "fig.show()"
      ],
      "execution_count": 64,
      "outputs": [
        {
          "output_type": "display_data",
          "data": {
            "text/html": [
              "<html>\n",
              "<head><meta charset=\"utf-8\" /></head>\n",
              "<body>\n",
              "    <div>\n",
              "            <script src=\"https://cdnjs.cloudflare.com/ajax/libs/mathjax/2.7.5/MathJax.js?config=TeX-AMS-MML_SVG\"></script><script type=\"text/javascript\">if (window.MathJax) {MathJax.Hub.Config({SVG: {font: \"STIX-Web\"}});}</script>\n",
              "                <script type=\"text/javascript\">window.PlotlyConfig = {MathJaxConfig: 'local'};</script>\n",
              "        <script src=\"https://cdn.plot.ly/plotly-latest.min.js\"></script>    \n",
              "            <div id=\"376f0163-0969-4b3a-b0cb-79eb8639a42c\" class=\"plotly-graph-div\" style=\"height:525px; width:100%;\"></div>\n",
              "            <script type=\"text/javascript\">\n",
              "                \n",
              "                    window.PLOTLYENV=window.PLOTLYENV || {};\n",
              "                    \n",
              "                if (document.getElementById(\"376f0163-0969-4b3a-b0cb-79eb8639a42c\")) {\n",
              "                    Plotly.newPlot(\n",
              "                        '376f0163-0969-4b3a-b0cb-79eb8639a42c',\n",
              "                        [{\"coloraxis\": \"coloraxis\", \"geo\": \"geo\", \"hoverlabel\": {\"namelength\": 0}, \"hovertemplate\": \"added_to_netflix_year=2008<br>Country=%{location}<br>Percentage=%{z}\", \"locationmode\": \"country names\", \"locations\": [\"USA\"], \"name\": \"\", \"type\": \"choropleth\", \"z\": [100.0]}],\n",
              "                        {\"coloraxis\": {\"cmax\": 100, \"cmin\": 0, \"colorbar\": {\"title\": {\"text\": \"Percentage\"}}, \"colorscale\": [[0.0, \"#0d0887\"], [0.1111111111111111, \"#46039f\"], [0.2222222222222222, \"#7201a8\"], [0.3333333333333333, \"#9c179e\"], [0.4444444444444444, \"#bd3786\"], [0.5555555555555556, \"#d8576b\"], [0.6666666666666666, \"#ed7953\"], [0.7777777777777778, \"#fb9f3a\"], [0.8888888888888888, \"#fdca26\"], [1.0, \"#f0f921\"]]}, \"geo\": {\"center\": {}, \"domain\": {\"x\": [0.0, 1.0], \"y\": [0.0, 1.0]}}, \"legend\": {\"tracegroupgap\": 0}, \"margin\": {\"t\": 60}, \"sliders\": [{\"active\": 0, \"currentvalue\": {\"prefix\": \"added_to_netflix_year=\"}, \"len\": 0.9, \"pad\": {\"b\": 10, \"t\": 60}, \"steps\": [{\"args\": [[\"2008\"], {\"frame\": {\"duration\": 0, \"redraw\": true}, \"fromcurrent\": true, \"mode\": \"immediate\", \"transition\": {\"duration\": 0, \"easing\": \"linear\"}}], \"label\": \"2008\", \"method\": \"animate\"}, {\"args\": [[\"2009\"], {\"frame\": {\"duration\": 0, \"redraw\": true}, \"fromcurrent\": true, \"mode\": \"immediate\", \"transition\": {\"duration\": 0, \"easing\": \"linear\"}}], \"label\": \"2009\", \"method\": \"animate\"}, {\"args\": [[\"2010\"], {\"frame\": {\"duration\": 0, \"redraw\": true}, \"fromcurrent\": true, \"mode\": \"immediate\", \"transition\": {\"duration\": 0, \"easing\": \"linear\"}}], \"label\": \"2010\", \"method\": \"animate\"}, {\"args\": [[\"2011\"], {\"frame\": {\"duration\": 0, \"redraw\": true}, \"fromcurrent\": true, \"mode\": \"immediate\", \"transition\": {\"duration\": 0, \"easing\": \"linear\"}}], \"label\": \"2011\", \"method\": \"animate\"}, {\"args\": [[\"2012\"], {\"frame\": {\"duration\": 0, \"redraw\": true}, \"fromcurrent\": true, \"mode\": \"immediate\", \"transition\": {\"duration\": 0, \"easing\": \"linear\"}}], \"label\": \"2012\", \"method\": \"animate\"}, {\"args\": [[\"2013\"], {\"frame\": {\"duration\": 0, \"redraw\": true}, \"fromcurrent\": true, \"mode\": \"immediate\", \"transition\": {\"duration\": 0, \"easing\": \"linear\"}}], \"label\": \"2013\", \"method\": \"animate\"}, {\"args\": [[\"2014\"], {\"frame\": {\"duration\": 0, \"redraw\": true}, \"fromcurrent\": true, \"mode\": \"immediate\", \"transition\": {\"duration\": 0, \"easing\": \"linear\"}}], \"label\": \"2014\", \"method\": \"animate\"}, {\"args\": [[\"2015\"], {\"frame\": {\"duration\": 0, \"redraw\": true}, \"fromcurrent\": true, \"mode\": \"immediate\", \"transition\": {\"duration\": 0, \"easing\": \"linear\"}}], \"label\": \"2015\", \"method\": \"animate\"}, {\"args\": [[\"2016\"], {\"frame\": {\"duration\": 0, \"redraw\": true}, \"fromcurrent\": true, \"mode\": \"immediate\", \"transition\": {\"duration\": 0, \"easing\": \"linear\"}}], \"label\": \"2016\", \"method\": \"animate\"}, {\"args\": [[\"2017\"], {\"frame\": {\"duration\": 0, \"redraw\": true}, \"fromcurrent\": true, \"mode\": \"immediate\", \"transition\": {\"duration\": 0, \"easing\": \"linear\"}}], \"label\": \"2017\", \"method\": \"animate\"}, {\"args\": [[\"2018\"], {\"frame\": {\"duration\": 0, \"redraw\": true}, \"fromcurrent\": true, \"mode\": \"immediate\", \"transition\": {\"duration\": 0, \"easing\": \"linear\"}}], \"label\": \"2018\", \"method\": \"animate\"}, {\"args\": [[\"2019\"], {\"frame\": {\"duration\": 0, \"redraw\": true}, \"fromcurrent\": true, \"mode\": \"immediate\", \"transition\": {\"duration\": 0, \"easing\": \"linear\"}}], \"label\": \"2019\", \"method\": \"animate\"}, {\"args\": [[\"2020\"], {\"frame\": {\"duration\": 0, \"redraw\": true}, \"fromcurrent\": true, \"mode\": \"immediate\", \"transition\": {\"duration\": 0, \"easing\": \"linear\"}}], \"label\": \"2020\", \"method\": \"animate\"}], \"x\": 0.1, \"xanchor\": \"left\", \"y\": 0, \"yanchor\": \"top\"}], \"template\": {\"data\": {\"bar\": [{\"error_x\": {\"color\": \"#2a3f5f\"}, \"error_y\": {\"color\": \"#2a3f5f\"}, \"marker\": {\"line\": {\"color\": \"#E5ECF6\", \"width\": 0.5}}, \"type\": \"bar\"}], \"barpolar\": [{\"marker\": {\"line\": {\"color\": \"#E5ECF6\", \"width\": 0.5}}, \"type\": \"barpolar\"}], \"carpet\": [{\"aaxis\": {\"endlinecolor\": \"#2a3f5f\", \"gridcolor\": \"white\", \"linecolor\": \"white\", \"minorgridcolor\": \"white\", \"startlinecolor\": \"#2a3f5f\"}, \"baxis\": {\"endlinecolor\": \"#2a3f5f\", \"gridcolor\": \"white\", \"linecolor\": \"white\", \"minorgridcolor\": \"white\", \"startlinecolor\": \"#2a3f5f\"}, \"type\": \"carpet\"}], \"choropleth\": [{\"colorbar\": {\"outlinewidth\": 0, \"ticks\": \"\"}, \"type\": \"choropleth\"}], \"contour\": [{\"colorbar\": {\"outlinewidth\": 0, \"ticks\": \"\"}, \"colorscale\": [[0.0, \"#0d0887\"], [0.1111111111111111, \"#46039f\"], [0.2222222222222222, \"#7201a8\"], [0.3333333333333333, \"#9c179e\"], [0.4444444444444444, \"#bd3786\"], [0.5555555555555556, \"#d8576b\"], [0.6666666666666666, \"#ed7953\"], [0.7777777777777778, \"#fb9f3a\"], [0.8888888888888888, \"#fdca26\"], [1.0, \"#f0f921\"]], \"type\": \"contour\"}], \"contourcarpet\": [{\"colorbar\": {\"outlinewidth\": 0, \"ticks\": \"\"}, \"type\": \"contourcarpet\"}], \"heatmap\": [{\"colorbar\": {\"outlinewidth\": 0, \"ticks\": \"\"}, \"colorscale\": [[0.0, \"#0d0887\"], [0.1111111111111111, \"#46039f\"], [0.2222222222222222, \"#7201a8\"], [0.3333333333333333, \"#9c179e\"], [0.4444444444444444, \"#bd3786\"], [0.5555555555555556, \"#d8576b\"], [0.6666666666666666, \"#ed7953\"], [0.7777777777777778, \"#fb9f3a\"], [0.8888888888888888, \"#fdca26\"], [1.0, \"#f0f921\"]], \"type\": \"heatmap\"}], \"heatmapgl\": [{\"colorbar\": {\"outlinewidth\": 0, \"ticks\": \"\"}, \"colorscale\": [[0.0, \"#0d0887\"], [0.1111111111111111, \"#46039f\"], [0.2222222222222222, \"#7201a8\"], [0.3333333333333333, \"#9c179e\"], [0.4444444444444444, \"#bd3786\"], [0.5555555555555556, \"#d8576b\"], [0.6666666666666666, \"#ed7953\"], [0.7777777777777778, \"#fb9f3a\"], [0.8888888888888888, \"#fdca26\"], [1.0, \"#f0f921\"]], \"type\": \"heatmapgl\"}], \"histogram\": [{\"marker\": {\"colorbar\": {\"outlinewidth\": 0, \"ticks\": \"\"}}, \"type\": \"histogram\"}], \"histogram2d\": [{\"colorbar\": {\"outlinewidth\": 0, \"ticks\": \"\"}, \"colorscale\": [[0.0, \"#0d0887\"], [0.1111111111111111, \"#46039f\"], [0.2222222222222222, \"#7201a8\"], [0.3333333333333333, \"#9c179e\"], [0.4444444444444444, \"#bd3786\"], [0.5555555555555556, \"#d8576b\"], [0.6666666666666666, \"#ed7953\"], [0.7777777777777778, \"#fb9f3a\"], [0.8888888888888888, \"#fdca26\"], [1.0, \"#f0f921\"]], \"type\": \"histogram2d\"}], \"histogram2dcontour\": [{\"colorbar\": {\"outlinewidth\": 0, \"ticks\": \"\"}, \"colorscale\": [[0.0, \"#0d0887\"], [0.1111111111111111, \"#46039f\"], [0.2222222222222222, \"#7201a8\"], [0.3333333333333333, \"#9c179e\"], [0.4444444444444444, \"#bd3786\"], [0.5555555555555556, \"#d8576b\"], [0.6666666666666666, \"#ed7953\"], [0.7777777777777778, \"#fb9f3a\"], [0.8888888888888888, \"#fdca26\"], [1.0, \"#f0f921\"]], \"type\": \"histogram2dcontour\"}], \"mesh3d\": [{\"colorbar\": {\"outlinewidth\": 0, \"ticks\": \"\"}, \"type\": \"mesh3d\"}], \"parcoords\": [{\"line\": {\"colorbar\": {\"outlinewidth\": 0, \"ticks\": \"\"}}, \"type\": \"parcoords\"}], \"pie\": [{\"automargin\": true, \"type\": \"pie\"}], \"scatter\": [{\"marker\": {\"colorbar\": {\"outlinewidth\": 0, \"ticks\": \"\"}}, \"type\": \"scatter\"}], \"scatter3d\": [{\"line\": {\"colorbar\": {\"outlinewidth\": 0, \"ticks\": \"\"}}, \"marker\": {\"colorbar\": {\"outlinewidth\": 0, \"ticks\": \"\"}}, \"type\": \"scatter3d\"}], \"scattercarpet\": [{\"marker\": {\"colorbar\": {\"outlinewidth\": 0, \"ticks\": \"\"}}, \"type\": \"scattercarpet\"}], \"scattergeo\": [{\"marker\": {\"colorbar\": {\"outlinewidth\": 0, \"ticks\": \"\"}}, \"type\": \"scattergeo\"}], \"scattergl\": [{\"marker\": {\"colorbar\": {\"outlinewidth\": 0, \"ticks\": \"\"}}, \"type\": \"scattergl\"}], \"scattermapbox\": [{\"marker\": {\"colorbar\": {\"outlinewidth\": 0, \"ticks\": \"\"}}, \"type\": \"scattermapbox\"}], \"scatterpolar\": [{\"marker\": {\"colorbar\": {\"outlinewidth\": 0, \"ticks\": \"\"}}, \"type\": \"scatterpolar\"}], \"scatterpolargl\": [{\"marker\": {\"colorbar\": {\"outlinewidth\": 0, \"ticks\": \"\"}}, \"type\": \"scatterpolargl\"}], \"scatterternary\": [{\"marker\": {\"colorbar\": {\"outlinewidth\": 0, \"ticks\": \"\"}}, \"type\": \"scatterternary\"}], \"surface\": [{\"colorbar\": {\"outlinewidth\": 0, \"ticks\": \"\"}, \"colorscale\": [[0.0, \"#0d0887\"], [0.1111111111111111, \"#46039f\"], [0.2222222222222222, \"#7201a8\"], [0.3333333333333333, \"#9c179e\"], [0.4444444444444444, \"#bd3786\"], [0.5555555555555556, \"#d8576b\"], [0.6666666666666666, \"#ed7953\"], [0.7777777777777778, \"#fb9f3a\"], [0.8888888888888888, \"#fdca26\"], [1.0, \"#f0f921\"]], \"type\": \"surface\"}], \"table\": [{\"cells\": {\"fill\": {\"color\": \"#EBF0F8\"}, \"line\": {\"color\": \"white\"}}, \"header\": {\"fill\": {\"color\": \"#C8D4E3\"}, \"line\": {\"color\": \"white\"}}, \"type\": \"table\"}]}, \"layout\": {\"annotationdefaults\": {\"arrowcolor\": \"#2a3f5f\", \"arrowhead\": 0, \"arrowwidth\": 1}, \"coloraxis\": {\"colorbar\": {\"outlinewidth\": 0, \"ticks\": \"\"}}, \"colorscale\": {\"diverging\": [[0, \"#8e0152\"], [0.1, \"#c51b7d\"], [0.2, \"#de77ae\"], [0.3, \"#f1b6da\"], [0.4, \"#fde0ef\"], [0.5, \"#f7f7f7\"], [0.6, \"#e6f5d0\"], [0.7, \"#b8e186\"], [0.8, \"#7fbc41\"], [0.9, \"#4d9221\"], [1, \"#276419\"]], \"sequential\": [[0.0, \"#0d0887\"], [0.1111111111111111, \"#46039f\"], [0.2222222222222222, \"#7201a8\"], [0.3333333333333333, \"#9c179e\"], [0.4444444444444444, \"#bd3786\"], [0.5555555555555556, \"#d8576b\"], [0.6666666666666666, \"#ed7953\"], [0.7777777777777778, \"#fb9f3a\"], [0.8888888888888888, \"#fdca26\"], [1.0, \"#f0f921\"]], \"sequentialminus\": [[0.0, \"#0d0887\"], [0.1111111111111111, \"#46039f\"], [0.2222222222222222, \"#7201a8\"], [0.3333333333333333, \"#9c179e\"], [0.4444444444444444, \"#bd3786\"], [0.5555555555555556, \"#d8576b\"], [0.6666666666666666, \"#ed7953\"], [0.7777777777777778, \"#fb9f3a\"], [0.8888888888888888, \"#fdca26\"], [1.0, \"#f0f921\"]]}, \"colorway\": [\"#636efa\", \"#EF553B\", \"#00cc96\", \"#ab63fa\", \"#FFA15A\", \"#19d3f3\", \"#FF6692\", \"#B6E880\", \"#FF97FF\", \"#FECB52\"], \"font\": {\"color\": \"#2a3f5f\"}, \"geo\": {\"bgcolor\": \"white\", \"lakecolor\": \"white\", \"landcolor\": \"#E5ECF6\", \"showlakes\": true, \"showland\": true, \"subunitcolor\": \"white\"}, \"hoverlabel\": {\"align\": \"left\"}, \"hovermode\": \"closest\", \"mapbox\": {\"style\": \"light\"}, \"paper_bgcolor\": \"white\", \"plot_bgcolor\": \"#E5ECF6\", \"polar\": {\"angularaxis\": {\"gridcolor\": \"white\", \"linecolor\": \"white\", \"ticks\": \"\"}, \"bgcolor\": \"#E5ECF6\", \"radialaxis\": {\"gridcolor\": \"white\", \"linecolor\": \"white\", \"ticks\": \"\"}}, \"scene\": {\"xaxis\": {\"backgroundcolor\": \"#E5ECF6\", \"gridcolor\": \"white\", \"gridwidth\": 2, \"linecolor\": \"white\", \"showbackground\": true, \"ticks\": \"\", \"zerolinecolor\": \"white\"}, \"yaxis\": {\"backgroundcolor\": \"#E5ECF6\", \"gridcolor\": \"white\", \"gridwidth\": 2, \"linecolor\": \"white\", \"showbackground\": true, \"ticks\": \"\", \"zerolinecolor\": \"white\"}, \"zaxis\": {\"backgroundcolor\": \"#E5ECF6\", \"gridcolor\": \"white\", \"gridwidth\": 2, \"linecolor\": \"white\", \"showbackground\": true, \"ticks\": \"\", \"zerolinecolor\": \"white\"}}, \"shapedefaults\": {\"line\": {\"color\": \"#2a3f5f\"}}, \"ternary\": {\"aaxis\": {\"gridcolor\": \"white\", \"linecolor\": \"white\", \"ticks\": \"\"}, \"baxis\": {\"gridcolor\": \"white\", \"linecolor\": \"white\", \"ticks\": \"\"}, \"bgcolor\": \"#E5ECF6\", \"caxis\": {\"gridcolor\": \"white\", \"linecolor\": \"white\", \"ticks\": \"\"}}, \"title\": {\"x\": 0.05}, \"xaxis\": {\"automargin\": true, \"gridcolor\": \"white\", \"linecolor\": \"white\", \"ticks\": \"\", \"title\": {\"standoff\": 15}, \"zerolinecolor\": \"white\", \"zerolinewidth\": 2}, \"yaxis\": {\"automargin\": true, \"gridcolor\": \"white\", \"linecolor\": \"white\", \"ticks\": \"\", \"title\": {\"standoff\": 15}, \"zerolinecolor\": \"white\", \"zerolinewidth\": 2}}}, \"title\": {\"text\": \"Percentage of Content Added to Netflix by Country\"}, \"updatemenus\": [{\"buttons\": [{\"args\": [null, {\"frame\": {\"duration\": 500, \"redraw\": true}, \"fromcurrent\": true, \"mode\": \"immediate\", \"transition\": {\"duration\": 500, \"easing\": \"linear\"}}], \"label\": \"&#9654;\", \"method\": \"animate\"}, {\"args\": [[null], {\"frame\": {\"duration\": 0, \"redraw\": true}, \"fromcurrent\": true, \"mode\": \"immediate\", \"transition\": {\"duration\": 0, \"easing\": \"linear\"}}], \"label\": \"&#9724;\", \"method\": \"animate\"}], \"direction\": \"left\", \"pad\": {\"r\": 10, \"t\": 70}, \"showactive\": false, \"type\": \"buttons\", \"x\": 0.1, \"xanchor\": \"right\", \"y\": 0, \"yanchor\": \"top\"}]},\n",
              "                        {\"responsive\": true}\n",
              "                    ).then(function(){\n",
              "                            Plotly.addFrames('376f0163-0969-4b3a-b0cb-79eb8639a42c', [{\"data\": [{\"coloraxis\": \"coloraxis\", \"geo\": \"geo\", \"hoverlabel\": {\"namelength\": 0}, \"hovertemplate\": \"added_to_netflix_year=2008<br>Country=%{location}<br>Percentage=%{z}\", \"locationmode\": \"country names\", \"locations\": [\"USA\"], \"name\": \"\", \"z\": [100.0], \"type\": \"choropleth\"}], \"name\": \"2008\"}, {\"data\": [{\"coloraxis\": \"coloraxis\", \"geo\": \"geo\", \"hoverlabel\": {\"namelength\": 0}, \"hovertemplate\": \"added_to_netflix_year=2009<br>Country=%{location}<br>Percentage=%{z}\", \"locationmode\": \"country names\", \"locations\": [\"Denmark\", \"USA\"], \"name\": \"\", \"z\": [50.0, 50.0], \"type\": \"choropleth\"}], \"name\": \"2009\"}, {\"data\": [{\"coloraxis\": \"coloraxis\", \"geo\": \"geo\", \"hoverlabel\": {\"namelength\": 0}, \"hovertemplate\": \"added_to_netflix_year=2010<br>Country=%{location}<br>Percentage=%{z}\", \"locationmode\": \"country names\", \"locations\": [\"USA\"], \"name\": \"\", \"z\": [100.0], \"type\": \"choropleth\"}], \"name\": \"2010\"}, {\"data\": [{\"coloraxis\": \"coloraxis\", \"geo\": \"geo\", \"hoverlabel\": {\"namelength\": 0}, \"hovertemplate\": \"added_to_netflix_year=2011<br>Country=%{location}<br>Percentage=%{z}\", \"locationmode\": \"country names\", \"locations\": [\"USA\", \"Spain, Mexico, France\"], \"name\": \"\", \"z\": [90.9090909090909, 9.090909090909092], \"type\": \"choropleth\"}], \"name\": \"2011\"}, {\"data\": [{\"coloraxis\": \"coloraxis\", \"geo\": \"geo\", \"hoverlabel\": {\"namelength\": 0}, \"hovertemplate\": \"added_to_netflix_year=2012<br>Country=%{location}<br>Percentage=%{z}\", \"locationmode\": \"country names\", \"locations\": [\"USA\", \"USA, Mexico\"], \"name\": \"\", \"z\": [66.66666666666666, 33.33333333333333], \"type\": \"choropleth\"}], \"name\": \"2012\"}, {\"data\": [{\"coloraxis\": \"coloraxis\", \"geo\": \"geo\", \"hoverlabel\": {\"namelength\": 0}, \"hovertemplate\": \"added_to_netflix_year=2013<br>Country=%{location}<br>Percentage=%{z}\", \"locationmode\": \"country names\", \"locations\": [\"USA\", \"Canada\"], \"name\": \"\", \"z\": [88.88888888888889, 11.11111111111111], \"type\": \"choropleth\"}], \"name\": \"2013\"}, {\"data\": [{\"coloraxis\": \"coloraxis\", \"geo\": \"geo\", \"hoverlabel\": {\"namelength\": 0}, \"hovertemplate\": \"added_to_netflix_year=2014<br>Country=%{location}<br>Percentage=%{z}\", \"locationmode\": \"country names\", \"locations\": [\"USA\", \"UK, Congo\", \"UK, Egypt, USA\", \"UK, USA\", \"USA, Bermuda, Ecuador\", \"USA, Canada\"], \"name\": \"\", \"z\": [66.66666666666666, 6.666666666666667, 6.666666666666667, 6.666666666666667, 6.666666666666667, 6.666666666666667], \"type\": \"choropleth\"}], \"name\": \"2014\"}, {\"data\": [{\"coloraxis\": \"coloraxis\", \"geo\": \"geo\", \"hoverlabel\": {\"namelength\": 0}, \"hovertemplate\": \"added_to_netflix_year=2015<br>Country=%{location}<br>Percentage=%{z}\", \"locationmode\": \"country names\", \"locations\": [\"USA\", \"France\", \"UK\", \"Australia\", \"Australia, UK, USA, New Zealand, Italy, France\", \"Belgium\", \"Canada\", \"France, Belgium\", \"Germany\", \"Germany, Australia, France, China\", \"Italy, France\", \"Mexico\", \"Nigeria\", \"Norway, UK, France, Ireland\", \"UK, Ukraine, USA\"], \"name\": \"\", \"z\": [72.41379310344827, 3.4482758620689653, 3.4482758620689653, 1.7241379310344827, 1.7241379310344827, 1.7241379310344827, 1.7241379310344827, 1.7241379310344827, 1.7241379310344827, 1.7241379310344827, 1.7241379310344827, 1.7241379310344827, 1.7241379310344827, 1.7241379310344827, 1.7241379310344827], \"type\": \"choropleth\"}], \"name\": \"2015\"}, {\"data\": [{\"coloraxis\": \"coloraxis\", \"geo\": \"geo\", \"hoverlabel\": {\"namelength\": 0}, \"hovertemplate\": \"added_to_netflix_year=2016<br>Country=%{location}<br>Percentage=%{z}\", \"locationmode\": \"country names\", \"locations\": [\"USA\", \"UK\", \"Taiwan\", \"Japan\", \"Spain\", \"Australia\", \"France\", \"Canada\", \"India\", \"Mexico\", \"USA, France, Japan\", \"Canada, USA\", \"Germany\", \"South Korea\", \"China\", \"Netherlands\", \"Pakistan\", \"Argentina\", \"Poland\", \"USA, Canada\", \"USA, New Zealand\", \"Argentina, Chile, Peru\", \"Austria\", \"Belgium, France\", \"Brazil\", \"Canada, UK, Netherlands\", \"Canada, UK, USA\", \"Chile, USA, France\", \"China, Germany, India, USA\", \"China, Hong Kong\", \"China, USA\", \"Colombia\", \"Croatia, Slovenia, Serbia, Montenegro\", \"Denmark\", \"Denmark, Indonesia, Finland, Norway, UK, Israel, France, USA, Germany, Netherlands\", \"Denmark, USA\", \"Denmark, Zimbabwe\", \"France, Qatar\", \"France, Tunisia, Belgium, Spain\", \"Hong Kong, China\", \"Iceland\", \"India, UK\", \"Ireland, South Africa\", \"Israel, Germany, France\", \"Italy\", \"Japan, USA\", \"Mexico, France\", \"Netherlands, Denmark, South Africa\", \"Netherlands, Japan, Canada\", \"New Zealand\", \"Nigeria\", \"Norway\", \"Pakistan, Norway, USA\", \"Peru, USA, UK\", \"Spain, Cuba\", \"Spain, USA\", \"Switzerland\", \"UK, Australia, Canada, USA\", \"UK, France\", \"UK, Germany, Canada\", \"UK, New Zealand, USA, India\", \"UK, USA\", \"USA, Greece, UK\", \"USA, Hungary\", \"USA, Japan\", \"USA, Kazakhstan\", \"USA, Netherlands, Japan, France\", \"USA, New Zealand, Japan\", \"USA, Russia\", \"USA, South Korea, China\"], \"name\": \"\", \"z\": [40.38461538461539, 8.333333333333332, 7.371794871794872, 3.5256410256410255, 3.205128205128205, 2.564102564102564, 2.564102564102564, 2.2435897435897436, 1.6025641025641024, 1.6025641025641024, 1.6025641025641024, 1.282051282051282, 1.282051282051282, 1.282051282051282, 0.9615384615384616, 0.9615384615384616, 0.9615384615384616, 0.641025641025641, 0.641025641025641, 0.641025641025641, 0.641025641025641, 0.3205128205128205, 0.3205128205128205, 0.3205128205128205, 0.3205128205128205, 0.3205128205128205, 0.3205128205128205, 0.3205128205128205, 0.3205128205128205, 0.3205128205128205, 0.3205128205128205, 0.3205128205128205, 0.3205128205128205, 0.3205128205128205, 0.3205128205128205, 0.3205128205128205, 0.3205128205128205, 0.3205128205128205, 0.3205128205128205, 0.3205128205128205, 0.3205128205128205, 0.3205128205128205, 0.3205128205128205, 0.3205128205128205, 0.3205128205128205, 0.3205128205128205, 0.3205128205128205, 0.3205128205128205, 0.3205128205128205, 0.3205128205128205, 0.3205128205128205, 0.3205128205128205, 0.3205128205128205, 0.3205128205128205, 0.3205128205128205, 0.3205128205128205, 0.3205128205128205, 0.3205128205128205, 0.3205128205128205, 0.3205128205128205, 0.3205128205128205, 0.3205128205128205, 0.3205128205128205, 0.3205128205128205, 0.3205128205128205, 0.3205128205128205, 0.3205128205128205, 0.3205128205128205, 0.3205128205128205, 0.3205128205128205], \"type\": \"choropleth\"}], \"name\": \"2016\"}, {\"data\": [{\"coloraxis\": \"coloraxis\", \"geo\": \"geo\", \"hoverlabel\": {\"namelength\": 0}, \"hovertemplate\": \"added_to_netflix_year=2017<br>Country=%{location}<br>Percentage=%{z}\", \"locationmode\": \"country names\", \"locations\": [\"USA\", \"India\", \"UK\", \"South Korea\", \"Japan\", \"Canada\", \"Turkey\", \"Spain\", \"Mexico\", \"Singapore\", \"France\", \"Australia\", \"Brazil\", \"China\", \"Germany\", \"France, Belgium\", \"Taiwan\", \"Canada, USA\", \"Argentina\", \"UK, USA\", \"Pakistan\", \"USA, Canada\", \"USA, UK\", \"Australia, USA\", \"Chile\", \"China, Hong Kong\", \"Colombia\", \"Israel\", \"Malaysia\", \"Norway\", \"Argentina, Spain\", \"Brazil, France\", \"Iceland\", \"India, Canada\", \"India, Soviet Union\", \"India, USA\", \"Ireland\", \"Ireland, UK\", \"Italy\", \"Italy, France\", \"Mexico, USA\", \"New Zealand\", \"Russia\", \"Sweden, USA\", \"USA, Australia\", \"USA, Spain\", \"Argentina, Uruguay, Spain, France\", \"Australia, Armenia, Japan, Jordan, Mexico, Mongolia, New Zealand, Philippines, South Africa, Sweden, USA, Uruguay\", \"Australia, India\", \"Australia, United Arab Emirates\", \"Austria\", \"Austria, Czech Republic\", \"Belgium, France\", \"Brazil, Netherlands, USA, Colombia, Austria, Germany\", \"Bulgaria, USA\", \"Cambodia, USA\", \"Canada, France\", \"Canada, Germany, South Africa\", \"Canada, India, Thailand, USA, United Arab Emirates\", \"Canada, Ireland, USA\", \"Canada, Spain\", \"Canada, USA, UK\", \"Chile, Argentina, France, Spain, USA\", \"Chile, France\", \"Chile, Spain, Argentina, Germany\", \"China, South Korea, USA\", \"China, USA, India, Nepal, Hong Kong, United Arab Emirates, Iceland\", \"Colombia, USA\", \"Czech Republic, Slovakia\", \"Denmark\", \"Denmark, UK, South Africa, Sweden, Belgium\", \"Finland, Sweden, Norway, Latvia, Germany\", \"France, Canada\", \"France, Canada, Belgium\", \"France, China, Canada, Cambodia\", \"France, Germany, Switzerland\", \"France, Morocco\", \"France, UK, USA\", \"Georgia, Germany, France\", \"Germany, Jordan, Netherlands\", \"Germany, Slovenia, USA\", \"Germany, Sri Lanka\", \"Germany, USA\", \"Germany, USA, Italy\", \"Hong Kong\", \"Hungary\", \"India, France\", \"India, Germany\", \"India, Malaysia\", \"India, Mexico\", \"India, Switzerland\", \"Indonesia\", \"Ireland, UK, Italy, USA\", \"Italy, India\", \"Japan, USA\", \"Lebanon, Qatar\", \"Mexico, Spain\", \"Netherlands\", \"Netherlands, Belgium\", \"Netherlands, Belgium, UK, USA\", \"Netherlands, USA\", \"Nigeria\", \"Norway, Germany\", \"Pakistan, USA\", \"Portugal, Spain\", \"Romania\", \"Russia, USA\", \"Saudi Arabia\", \"Singapore, France\", \"Slovenia, Croatia, Germany, Czech Republic, Qatar\", \"South Africa\", \"South Africa, USA, Germany\", \"South Korea, China, USA\", \"South Korea, USA\", \"Spain, Argentina\", \"Spain, Belgium, Switzerland, USA, China, UK\", \"Spain, Bulgaria\", \"Spain, France, Uruguay\", \"Spain, Germany\", \"Spain, Italy, Argentina\", \"Spain, Switzerland\", \"Sweden\", \"Switzerland\", \"Switzerland, France\", \"Thailand\", \"Turkey, France, Germany, Poland\", \"UK, Canada, Japan\", \"UK, France\", \"UK, France, Belgium\", \"UK, India\", \"UK, Israel, Russia\", \"UK, Italy, Israel, Peru, USA\", \"UK, Japan, USA\", \"UK, Jordan, Qatar, Iran\", \"UK, Lithuania\", \"UK, Russia\", \"UK, South Africa, United Arab Emirates\", \"USA, Australia, China\", \"USA, Australia, Samoa, UK\", \"USA, Botswana\", \"USA, Bulgaria\", \"USA, Canada, Japan, Panama\", \"USA, Chile\", \"USA, Denmark\", \"USA, France\", \"USA, Hong Kong\", \"USA, Iceland\", \"USA, India\", \"USA, Italy\", \"USA, Mexico\", \"USA, Senegal\", \"USA, UK, Denmark, Sweden\", \"USA, Uruguay\", \"Ukraine\", \"United Arab Emirates\", \"United Arab Emirates, Romania\", \"Uruguay\", \"Vietnam\", \"West Germany\"], \"name\": \"\", \"z\": [31.887201735357916, 16.268980477223426, 8.026030368763557, 3.036876355748373, 2.8199566160520604, 2.4945770065075923, 2.4945770065075923, 1.6268980477223427, 1.3015184381778742, 1.3015184381778742, 1.193058568329718, 1.0845986984815619, 1.0845986984815619, 1.0845986984815619, 1.0845986984815619, 0.9761388286334056, 0.9761388286334056, 0.7592190889370932, 0.6507592190889371, 0.5422993492407809, 0.43383947939262474, 0.43383947939262474, 0.43383947939262474, 0.32537960954446854, 0.32537960954446854, 0.32537960954446854, 0.32537960954446854, 0.32537960954446854, 0.32537960954446854, 0.32537960954446854, 0.21691973969631237, 0.21691973969631237, 0.21691973969631237, 0.21691973969631237, 0.21691973969631237, 0.21691973969631237, 0.21691973969631237, 0.21691973969631237, 0.21691973969631237, 0.21691973969631237, 0.21691973969631237, 0.21691973969631237, 0.21691973969631237, 0.21691973969631237, 0.21691973969631237, 0.21691973969631237, 0.10845986984815618, 0.10845986984815618, 0.10845986984815618, 0.10845986984815618, 0.10845986984815618, 0.10845986984815618, 0.10845986984815618, 0.10845986984815618, 0.10845986984815618, 0.10845986984815618, 0.10845986984815618, 0.10845986984815618, 0.10845986984815618, 0.10845986984815618, 0.10845986984815618, 0.10845986984815618, 0.10845986984815618, 0.10845986984815618, 0.10845986984815618, 0.10845986984815618, 0.10845986984815618, 0.10845986984815618, 0.10845986984815618, 0.10845986984815618, 0.10845986984815618, 0.10845986984815618, 0.10845986984815618, 0.10845986984815618, 0.10845986984815618, 0.10845986984815618, 0.10845986984815618, 0.10845986984815618, 0.10845986984815618, 0.10845986984815618, 0.10845986984815618, 0.10845986984815618, 0.10845986984815618, 0.10845986984815618, 0.10845986984815618, 0.10845986984815618, 0.10845986984815618, 0.10845986984815618, 0.10845986984815618, 0.10845986984815618, 0.10845986984815618, 0.10845986984815618, 0.10845986984815618, 0.10845986984815618, 0.10845986984815618, 0.10845986984815618, 0.10845986984815618, 0.10845986984815618, 0.10845986984815618, 0.10845986984815618, 0.10845986984815618, 0.10845986984815618, 0.10845986984815618, 0.10845986984815618, 0.10845986984815618, 0.10845986984815618, 0.10845986984815618, 0.10845986984815618, 0.10845986984815618, 0.10845986984815618, 0.10845986984815618, 0.10845986984815618, 0.10845986984815618, 0.10845986984815618, 0.10845986984815618, 0.10845986984815618, 0.10845986984815618, 0.10845986984815618, 0.10845986984815618, 0.10845986984815618, 0.10845986984815618, 0.10845986984815618, 0.10845986984815618, 0.10845986984815618, 0.10845986984815618, 0.10845986984815618, 0.10845986984815618, 0.10845986984815618, 0.10845986984815618, 0.10845986984815618, 0.10845986984815618, 0.10845986984815618, 0.10845986984815618, 0.10845986984815618, 0.10845986984815618, 0.10845986984815618, 0.10845986984815618, 0.10845986984815618, 0.10845986984815618, 0.10845986984815618, 0.10845986984815618, 0.10845986984815618, 0.10845986984815618, 0.10845986984815618, 0.10845986984815618, 0.10845986984815618, 0.10845986984815618, 0.10845986984815618, 0.10845986984815618, 0.10845986984815618, 0.10845986984815618, 0.10845986984815618, 0.10845986984815618, 0.10845986984815618, 0.10845986984815618, 0.10845986984815618, 0.10845986984815618, 0.10845986984815618, 0.10845986984815618], \"type\": \"choropleth\"}], \"name\": \"2017\"}, {\"data\": [{\"coloraxis\": \"coloraxis\", \"geo\": \"geo\", \"hoverlabel\": {\"namelength\": 0}, \"hovertemplate\": \"added_to_netflix_year=2018<br>Country=%{location}<br>Percentage=%{z}\", \"locationmode\": \"country names\", \"locations\": [\"USA\", \"India\", \"UK\", \"Japan\", \"Hong Kong\", \"Canada\", \"Thailand\", \"Spain\", \"South Korea\", \"Australia\", \"Mexico\", \"France\", \"China\", \"Indonesia\", \"Argentina\", \"Germany\", \"UK, USA\", \"Colombia\", \"Brazil\", \"Hong Kong, China\", \"Taiwan\", \"Canada, USA\", \"Ireland\", \"Turkey\", \"USA, Canada\", \"USA, UK\", \"France, Belgium\", \"Pakistan\", \"Chile\", \"China, Hong Kong\", \"Philippines\", \"Singapore\", \"Argentina, Spain\", \"Australia, USA\", \"Bulgaria, USA\", \"Czech Republic, USA\", \"Denmark\", \"Hungary\", \"India, USA\", \"Italy\", \"Malaysia\", \"Mexico, USA\", \"New Zealand\", \"Poland, USA\", \"Russia\", \"South Korea, USA\", \"Switzerland, USA\", \"UK, Canada, USA\", \"USA, France\", \"USA, India\", \"USA, UK, France\", \"United Arab Emirates, USA\", \"Argentina, Brazil, France, Poland, Germany, Denmark\", \"Argentina, Chile\", \"Argentina, France\", \"Argentina, Italy\", \"Australia, Iraq\", \"Australia, New Zealand\", \"Australia, UK, Canada\", \"Australia, UK, United Arab Emirates, Canada\", \"Australia, United Arab Emirates\", \"Belgium\", \"Belgium, UK, USA\", \"Bosnia and Herzegovina\", \"Brazil, France\", \"Brazil, India, China, USA\", \"Cambodia\", \"Canada, Germany, France, USA\", \"Canada, Japan, USA\", \"Canada, Mexico, Germany, South Africa\", \"Canada, Spain, France\", \"Canada, USA, UK\", \"Chile, Peru\", \"China, Canada, USA\", \"China, Morocco, Hong Kong\", \"China, USA, UK\", \"Colombia, Mexico\", \"Czech Republic\", \"Czech Republic, UK, France\", \"Denmark, France, USA, Sweden, Belgium\", \"Denmark, Sweden\", \"Denmark, Sweden, Norway, Israel, USA\", \"Egypt\", \"Finland, Germany\", \"France, Belgium, China, USA\", \"France, Iran, USA\", \"France, Luxembourg, USA\", \"France, Netherlands, South Africa, Finland\", \"Georgia, Russia, Poland\", \"Germany, France, Luxembourg, UK\", \"Germany, France, Russia\", \"Germany, UK\", \"Germany, USA\", \"Germany, USA, Canada\", \"Hong Kong, China, USA\", \"Hong Kong, Taiwan\", \"Hong Kong, USA\", \"India, Australia\", \"India, France\", \"India, Germany, Austria\", \"Indonesia, USA\", \"Ireland, Canada, Luxembourg, USA, UK, Philippines, India\", \"Ireland, Canada, UK, USA\", \"Ireland, UK\", \"Ireland, UK, Greece, France, Netherlands\", \"Israel, Germany\", \"Israel, USA\", \"Italy, Switzerland, Albania, Poland\", \"Italy, Switzerland, France, Germany\", \"Italy, USA\", \"Italy, USA, Argentina\", \"Japan, South Korea\", \"Lebanon\", \"Mexico, Spain\", \"Netherlands\", \"Netherlands, Belgium\", \"Netherlands, Belgium, Germany, Jordan\", \"Netherlands, Denmark, France, Germany\", \"New Zealand, UK\", \"Norway, Denmark, Netherlands, Sweden\", \"Norway, Germany, Sweden\", \"Norway, Iceland, USA\", \"Peru\", \"Philippines, Qatar\", \"Poland\", \"Portugal\", \"Portugal, France, Poland, USA\", \"Portugal, United Arab Emirates, Russia, Spain\", \"Russia, Poland, Serbia\", \"Saudi Arabia, Syria, Egypt, Lebanon, Kuwait\", \"Singapore, USA\", \"Somalia, Kenya, Sudan, South Africa, USA\", \"South Africa\", \"South Africa, China, USA\", \"South Africa, USA\", \"South Korea, China\", \"Soviet Union, India\", \"Spain, Colombia\", \"Spain, France\", \"Spain, Mexico\", \"Spain, Portugal\", \"Sweden\", \"Switzerland, UK, USA\", \"Thailand, Canada, USA\", \"Turkey, India\", \"UK, Canada\", \"UK, Canada, Italy\", \"UK, China, Canada, Indonesia, Singapore, USA\", \"UK, China, USA\", \"UK, Denmark, Canada, Croatia\", \"UK, France\", \"UK, France, USA\", \"UK, Germany\", \"UK, Germany, USA\", \"UK, India\", \"UK, India, USA\", \"UK, Italy, France, USA\", \"UK, Japan, USA\", \"UK, Namibia, South Africa, Zimbabwe, USA\", \"UK, New Zealand\", \"UK, South Africa, Australia, USA\", \"UK, Spain, USA, Germany\", \"UK, USA, Australia\", \"UK, USA, Morocco\", \"UK, West Germany\", \"USA, Australia\", \"USA, Australia, South Africa, UK\", \"USA, Brazil, India, Uganda, China\", \"USA, Canada, Ireland\", \"USA, Chile\", \"USA, China, Hong Kong\", \"USA, Czech Republic\", \"USA, Germany, Brazil, Italy\", \"USA, Indonesia\", \"USA, Israel\", \"USA, Israel, UK, Canada\", \"USA, Mexico\", \"USA, Sweden\", \"USA, UK, Canada, Japan\", \"USA, UK, Morocco\", \"USA, UK, Spain, South Korea\", \"USA, United Arab Emirates\", \"Uruguay\", \"Uruguay, Spain, Argentina, France, Germany\", \"Vietnam\"], \"name\": \"\", \"z\": [29.519071310116086, 24.212271973466002, 4.311774461028192, 2.321724709784411, 2.2388059701492535, 2.155887230514096, 1.9900497512437811, 1.9071310116086235, 1.4925373134328357, 1.4096185737976783, 1.4096185737976783, 1.3266998341625207, 1.2437810945273633, 1.1608623548922055, 0.9121061359867331, 0.9121061359867331, 0.9121061359867331, 0.7462686567164178, 0.6633499170812603, 0.5804311774461027, 0.4975124378109453, 0.41459369817578773, 0.41459369817578773, 0.41459369817578773, 0.41459369817578773, 0.41459369817578773, 0.33167495854063017, 0.33167495854063017, 0.24875621890547264, 0.24875621890547264, 0.24875621890547264, 0.24875621890547264, 0.16583747927031509, 0.16583747927031509, 0.16583747927031509, 0.16583747927031509, 0.16583747927031509, 0.16583747927031509, 0.16583747927031509, 0.16583747927031509, 0.16583747927031509, 0.16583747927031509, 0.16583747927031509, 0.16583747927031509, 0.16583747927031509, 0.16583747927031509, 0.16583747927031509, 0.16583747927031509, 0.16583747927031509, 0.16583747927031509, 0.16583747927031509, 0.16583747927031509, 0.08291873963515754, 0.08291873963515754, 0.08291873963515754, 0.08291873963515754, 0.08291873963515754, 0.08291873963515754, 0.08291873963515754, 0.08291873963515754, 0.08291873963515754, 0.08291873963515754, 0.08291873963515754, 0.08291873963515754, 0.08291873963515754, 0.08291873963515754, 0.08291873963515754, 0.08291873963515754, 0.08291873963515754, 0.08291873963515754, 0.08291873963515754, 0.08291873963515754, 0.08291873963515754, 0.08291873963515754, 0.08291873963515754, 0.08291873963515754, 0.08291873963515754, 0.08291873963515754, 0.08291873963515754, 0.08291873963515754, 0.08291873963515754, 0.08291873963515754, 0.08291873963515754, 0.08291873963515754, 0.08291873963515754, 0.08291873963515754, 0.08291873963515754, 0.08291873963515754, 0.08291873963515754, 0.08291873963515754, 0.08291873963515754, 0.08291873963515754, 0.08291873963515754, 0.08291873963515754, 0.08291873963515754, 0.08291873963515754, 0.08291873963515754, 0.08291873963515754, 0.08291873963515754, 0.08291873963515754, 0.08291873963515754, 0.08291873963515754, 0.08291873963515754, 0.08291873963515754, 0.08291873963515754, 0.08291873963515754, 0.08291873963515754, 0.08291873963515754, 0.08291873963515754, 0.08291873963515754, 0.08291873963515754, 0.08291873963515754, 0.08291873963515754, 0.08291873963515754, 0.08291873963515754, 0.08291873963515754, 0.08291873963515754, 0.08291873963515754, 0.08291873963515754, 0.08291873963515754, 0.08291873963515754, 0.08291873963515754, 0.08291873963515754, 0.08291873963515754, 0.08291873963515754, 0.08291873963515754, 0.08291873963515754, 0.08291873963515754, 0.08291873963515754, 0.08291873963515754, 0.08291873963515754, 0.08291873963515754, 0.08291873963515754, 0.08291873963515754, 0.08291873963515754, 0.08291873963515754, 0.08291873963515754, 0.08291873963515754, 0.08291873963515754, 0.08291873963515754, 0.08291873963515754, 0.08291873963515754, 0.08291873963515754, 0.08291873963515754, 0.08291873963515754, 0.08291873963515754, 0.08291873963515754, 0.08291873963515754, 0.08291873963515754, 0.08291873963515754, 0.08291873963515754, 0.08291873963515754, 0.08291873963515754, 0.08291873963515754, 0.08291873963515754, 0.08291873963515754, 0.08291873963515754, 0.08291873963515754, 0.08291873963515754, 0.08291873963515754, 0.08291873963515754, 0.08291873963515754, 0.08291873963515754, 0.08291873963515754, 0.08291873963515754, 0.08291873963515754, 0.08291873963515754, 0.08291873963515754, 0.08291873963515754, 0.08291873963515754, 0.08291873963515754, 0.08291873963515754, 0.08291873963515754, 0.08291873963515754, 0.08291873963515754, 0.08291873963515754, 0.08291873963515754, 0.08291873963515754, 0.08291873963515754, 0.08291873963515754, 0.08291873963515754, 0.08291873963515754, 0.08291873963515754, 0.08291873963515754, 0.08291873963515754], \"type\": \"choropleth\"}], \"name\": \"2018\"}, {\"data\": [{\"coloraxis\": \"coloraxis\", \"geo\": \"geo\", \"hoverlabel\": {\"namelength\": 0}, \"hovertemplate\": \"added_to_netflix_year=2019<br>Country=%{location}<br>Percentage=%{z}\", \"locationmode\": \"country names\", \"locations\": [\"USA\", \"India\", \"UK\", \"South Korea\", \"Japan\", \"Canada\", \"Philippines\", \"Spain\", \"Nigeria\", \"France\", \"Mexico\", \"Australia\", \"China\", \"Egypt\", \"UK, USA\", \"Taiwan\", \"Brazil\", \"Indonesia\", \"Thailand\", \"USA, UK\", \"Germany\", \"USA, Canada\", \"Argentina\", \"Italy\", \"Turkey\", \"USA, Japan\", \"Colombia\", \"Hong Kong\", \"Hong Kong, China\", \"Malaysia\", \"Germany, USA\", \"Netherlands\", \"USA, Germany\", \"USA, Mexico\", \"Canada, USA\", \"China, Hong Kong\", \"France, Belgium\", \"Israel\", \"Lebanon\", \"USA, China\", \"USA, France\", \"Denmark\", \"France, USA\", \"Romania\", \"USA, Australia\", \"Belgium\", \"Belgium, Netherlands\", \"Chile\", \"Indonesia, Singapore\", \"Ireland\", \"Israel, USA\", \"New Zealand\", \"Pakistan\", \"Poland\", \"South Korea, USA\", \"UK, Canada, USA\", \"UK, France\", \"USA, India\", \"USA, UK, Australia\", \"USA, United Arab Emirates\", \"Argentina, Brazil\", \"Argentina, Spain\", \"Argentina, USA\", \"Argentina, Uruguay, Serbia\", \"Australia, France\", \"Australia, USA\", \"Austria, Iraq, USA\", \"Austria, USA\", \"Bangladesh\", \"Belgium, Luxembourg, France\", \"Brazil, USA\", \"Bulgaria, USA\", \"Canada, France, USA\", \"Canada, India\", \"Canada, Luxembourg\", \"Canada, Norway\", \"Canada, USA, UK\", \"Chile, Argentina\", \"China, Hong Kong, USA\", \"China, Taiwan\", \"China, USA\", \"Colombia, Peru, UK\", \"Denmark, France, Italy, Belgium, Netherlands\", \"Denmark, France, Poland\", \"Denmark, Spain\", \"Estonia\", \"Finland\", \"Finland, Germany, Belgium\", \"France, Canada\", \"France, Germany, Czech Republic, Belgium\", \"France, Japan\", \"France, Japan, USA\", \"France, Senegal, Belgium\", \"France, USA, Mexico\", \"Germany, Canada, USA\", \"Germany, Italy\", \"Germany, UK\", \"Germany, USA, Sweden\", \"Ghana\", \"Ghana, USA\", \"Hong Kong, China, Singapore\", \"Iceland, Sweden, Belgium\", \"India, France\", \"India, Germany\", \"India, Germany, France\", \"India, Pakistan\", \"India, UK, Canada, USA\", \"Iran, France\", \"Ireland, USA, France\", \"Israel, Germany, Poland, Luxembourg, Belgium, France, USA\", \"Italy, Belgium, France\", \"Italy, France\", \"Italy, South Africa, West Germany, Australia, USA\", \"Italy, USA\", \"Japan, Canada, South Korea\", \"Jordan\", \"Korea\", \"Kuwait\", \"Mexico, USA\", \"Norway\", \"Pakistan, United Arab Emirates\", \"Poland, Czechoslovakia\", \"Poland, West Germany\", \"Romania, Bulgaria, Hungary\", \"Romania, Germany\", \"Russia\", \"Serbia\", \"Singapore, Malaysia\", \"Singapore, USA\", \"South Africa, Nigeria\", \"South Africa, USA, New Zealand, Canada\", \"South Korea, Canada, USA, China\", \"South Korea, Czech Republic\", \"South Korea, Japan\", \"Spain, Belgium\", \"Spain, France\", \"Spain, UK\", \"Spain, UK, USA\", \"Sweden\", \"Sweden, UK, Finland\", \"Sweden, USA\", \"Switzerland\", \"Switzerland, Holy See (Vatican City State), Italy, Germany, France\", \"Taiwan, China, France, USA\", \"Taiwan, Hong Kong, USA, China\", \"Thailand, China, USA\", \"UK, Belgium\", \"UK, Belgium, Sweden\", \"UK, Brazil, Germany\", \"UK, France, Belgium\", \"UK, France, Canada\", \"UK, France, Germany\", \"UK, France, Germany, Spain\", \"UK, Germany\", \"UK, Germany, USA\", \"UK, Hong Kong\", \"UK, Hungary, Australia\", \"UK, Italy\", \"UK, Japan, USA\", \"UK, Malawi\", \"UK, Norway, Denmark, Germany, Sweden\", \"UK, Pakistan\", \"UK, Poland, USA\", \"UK, South Korea\", \"UK, USA, Germany, Denmark, Belgium, Japan\", \"USA, Australia, Mexico\", \"USA, Cambodia\", \"USA, Canada, UK\", \"USA, France, Japan\", \"USA, Germany, Canada\", \"USA, Germany, Switzerland, Mexico\", \"USA, India, South Korea, China\", \"USA, India, United Arab Emirates\", \"USA, Italy\", \"USA, Morocco\", \"USA, New Zealand, UK\", \"USA, Poland\", \"USA, South Africa\", \"USA, South Korea\", \"USA, Spain\", \"USA, Spain, Chile, Peru\", \"USA, Spain, Italy\", \"USA, Sweden\", \"USA, Taiwan\", \"USA, UK, Germany\", \"United Arab Emirates\", \"Uruguay, Spain, Mexico\", \"Vietnam\"], \"name\": \"\", \"z\": [35.700325732899024, 13.485342019543975, 4.5602605863192185, 3.5830618892508146, 3.1921824104234524, 2.8664495114006514, 2.3452768729641695, 2.0846905537459284, 1.6938110749185669, 1.4332247557003257, 1.2377850162866448, 1.1726384364820848, 1.1726384364820848, 1.0423452768729642, 1.0423452768729642, 0.9771986970684038, 0.9120521172638436, 0.8469055374592834, 0.8469055374592834, 0.7817589576547231, 0.7166123778501629, 0.6514657980456027, 0.5211726384364821, 0.4560260586319218, 0.4560260586319218, 0.4560260586319218, 0.39087947882736157, 0.39087947882736157, 0.39087947882736157, 0.39087947882736157, 0.32573289902280134, 0.32573289902280134, 0.32573289902280134, 0.32573289902280134, 0.26058631921824105, 0.26058631921824105, 0.26058631921824105, 0.26058631921824105, 0.26058631921824105, 0.26058631921824105, 0.26058631921824105, 0.19543973941368079, 0.19543973941368079, 0.19543973941368079, 0.19543973941368079, 0.13029315960912052, 0.13029315960912052, 0.13029315960912052, 0.13029315960912052, 0.13029315960912052, 0.13029315960912052, 0.13029315960912052, 0.13029315960912052, 0.13029315960912052, 0.13029315960912052, 0.13029315960912052, 0.13029315960912052, 0.13029315960912052, 0.13029315960912052, 0.13029315960912052, 0.06514657980456026, 0.06514657980456026, 0.06514657980456026, 0.06514657980456026, 0.06514657980456026, 0.06514657980456026, 0.06514657980456026, 0.06514657980456026, 0.06514657980456026, 0.06514657980456026, 0.06514657980456026, 0.06514657980456026, 0.06514657980456026, 0.06514657980456026, 0.06514657980456026, 0.06514657980456026, 0.06514657980456026, 0.06514657980456026, 0.06514657980456026, 0.06514657980456026, 0.06514657980456026, 0.06514657980456026, 0.06514657980456026, 0.06514657980456026, 0.06514657980456026, 0.06514657980456026, 0.06514657980456026, 0.06514657980456026, 0.06514657980456026, 0.06514657980456026, 0.06514657980456026, 0.06514657980456026, 0.06514657980456026, 0.06514657980456026, 0.06514657980456026, 0.06514657980456026, 0.06514657980456026, 0.06514657980456026, 0.06514657980456026, 0.06514657980456026, 0.06514657980456026, 0.06514657980456026, 0.06514657980456026, 0.06514657980456026, 0.06514657980456026, 0.06514657980456026, 0.06514657980456026, 0.06514657980456026, 0.06514657980456026, 0.06514657980456026, 0.06514657980456026, 0.06514657980456026, 0.06514657980456026, 0.06514657980456026, 0.06514657980456026, 0.06514657980456026, 0.06514657980456026, 0.06514657980456026, 0.06514657980456026, 0.06514657980456026, 0.06514657980456026, 0.06514657980456026, 0.06514657980456026, 0.06514657980456026, 0.06514657980456026, 0.06514657980456026, 0.06514657980456026, 0.06514657980456026, 0.06514657980456026, 0.06514657980456026, 0.06514657980456026, 0.06514657980456026, 0.06514657980456026, 0.06514657980456026, 0.06514657980456026, 0.06514657980456026, 0.06514657980456026, 0.06514657980456026, 0.06514657980456026, 0.06514657980456026, 0.06514657980456026, 0.06514657980456026, 0.06514657980456026, 0.06514657980456026, 0.06514657980456026, 0.06514657980456026, 0.06514657980456026, 0.06514657980456026, 0.06514657980456026, 0.06514657980456026, 0.06514657980456026, 0.06514657980456026, 0.06514657980456026, 0.06514657980456026, 0.06514657980456026, 0.06514657980456026, 0.06514657980456026, 0.06514657980456026, 0.06514657980456026, 0.06514657980456026, 0.06514657980456026, 0.06514657980456026, 0.06514657980456026, 0.06514657980456026, 0.06514657980456026, 0.06514657980456026, 0.06514657980456026, 0.06514657980456026, 0.06514657980456026, 0.06514657980456026, 0.06514657980456026, 0.06514657980456026, 0.06514657980456026, 0.06514657980456026, 0.06514657980456026, 0.06514657980456026, 0.06514657980456026, 0.06514657980456026, 0.06514657980456026, 0.06514657980456026, 0.06514657980456026, 0.06514657980456026, 0.06514657980456026, 0.06514657980456026, 0.06514657980456026, 0.06514657980456026, 0.06514657980456026, 0.06514657980456026], \"type\": \"choropleth\"}], \"name\": \"2019\"}, {\"data\": [{\"coloraxis\": \"coloraxis\", \"geo\": \"geo\", \"hoverlabel\": {\"namelength\": 0}, \"hovertemplate\": \"added_to_netflix_year=2020<br>Country=%{location}<br>Percentage=%{z}\", \"locationmode\": \"country names\", \"locations\": [\"USA\", \"India\", \"UK\", \"UK, USA\", \"USA, Germany\", \"Japan\", \"South Korea\", \"USA, Canada\", \"USA, UK\", \"Germany\", \"Mexico\", \"New Zealand, USA\", \"USA, Australia\", \"USA, Japan\", \"Australia, UK\", \"Brazil\", \"Brazil, France, Germany\", \"Canada\", \"China\", \"France\", \"Germany, France, USA, Canada, UK\", \"Germany, USA\", \"Germany, USA, UK, Canada\", \"Indonesia\", \"Mexico, Spain\", \"Netherlands\", \"Poland\", \"South Korea, USA\", \"Spain\", \"UK, France, USA\", \"UK, Japan, USA\", \"USA, Canada, France\", \"USA, Canada, Germany\", \"USA, East Germany, West Germany\", \"USA, France, Italy, UK\", \"USA, France, Mexico\", \"USA, Germany, Mexico\", \"USA, Germany, UK\", \"USA, Germany, UK, Italy\", \"USA, Hong Kong\", \"USA, India, Malaysia, Taiwan, Canada, UK\", \"USA, South Korea\", \"USA, UK, Canada\", \"USA, UK, France, Germany, Japan\", \"Uruguay, Argentina, Germany, Spain\"], \"name\": \"\", \"z\": [53.04878048780488, 4.878048780487805, 3.6585365853658534, 3.6585365853658534, 2.4390243902439024, 1.8292682926829267, 1.8292682926829267, 1.8292682926829267, 1.8292682926829267, 1.2195121951219512, 1.2195121951219512, 1.2195121951219512, 1.2195121951219512, 1.2195121951219512, 0.6097560975609756, 0.6097560975609756, 0.6097560975609756, 0.6097560975609756, 0.6097560975609756, 0.6097560975609756, 0.6097560975609756, 0.6097560975609756, 0.6097560975609756, 0.6097560975609756, 0.6097560975609756, 0.6097560975609756, 0.6097560975609756, 0.6097560975609756, 0.6097560975609756, 0.6097560975609756, 0.6097560975609756, 0.6097560975609756, 0.6097560975609756, 0.6097560975609756, 0.6097560975609756, 0.6097560975609756, 0.6097560975609756, 0.6097560975609756, 0.6097560975609756, 0.6097560975609756, 0.6097560975609756, 0.6097560975609756, 0.6097560975609756, 0.6097560975609756, 0.6097560975609756], \"type\": \"choropleth\"}], \"name\": \"2020\"}]);\n",
              "                        }).then(function(){\n",
              "                            \n",
              "var gd = document.getElementById('376f0163-0969-4b3a-b0cb-79eb8639a42c');\n",
              "var x = new MutationObserver(function (mutations, observer) {{\n",
              "        var display = window.getComputedStyle(gd).display;\n",
              "        if (!display || display === 'none') {{\n",
              "            console.log([gd, 'removed!']);\n",
              "            Plotly.purge(gd);\n",
              "            observer.disconnect();\n",
              "        }}\n",
              "}});\n",
              "\n",
              "// Listen for the removal of the full notebook cells\n",
              "var notebookContainer = gd.closest('#notebook-container');\n",
              "if (notebookContainer) {{\n",
              "    x.observe(notebookContainer, {childList: true});\n",
              "}}\n",
              "\n",
              "// Listen for the clearing of the current output cell\n",
              "var outputEl = gd.closest('.output');\n",
              "if (outputEl) {{\n",
              "    x.observe(outputEl, {childList: true});\n",
              "}}\n",
              "\n",
              "                        })\n",
              "                };\n",
              "                \n",
              "            </script>\n",
              "        </div>\n",
              "</body>\n",
              "</html>"
            ]
          },
          "metadata": {
            "tags": []
          }
        }
      ]
    },
    {
      "cell_type": "markdown",
      "metadata": {
        "id": "FdSitIJ0qwaj",
        "colab_type": "text"
      },
      "source": [
        "## Model Prep"
      ]
    },
    {
      "cell_type": "code",
      "metadata": {
        "id": "FkKq51Bkqwak",
        "colab_type": "code",
        "colab": {}
      },
      "source": [
        "movie_dummy = str_get_dummies(movie, \n",
        "                              columns=list_cols, \n",
        "                              sep=', ', \n",
        "                              prefix=list_cols, \n",
        "                              drop_first=True)\n",
        "\n",
        "movie_dummy = pd.get_dummies(movie_dummy,\n",
        "                             columns=['Type', 'mpaa_rating'],\n",
        "                             drop_first=True)"
      ],
      "execution_count": 0,
      "outputs": []
    },
    {
      "cell_type": "code",
      "metadata": {
        "id": "ZM2mGKKrqwan",
        "colab_type": "code",
        "colab": {
          "base_uri": "https://localhost:8080/",
          "height": 35
        },
        "outputId": "f0e036c9-4200-44e5-873c-66eab5d845bb"
      },
      "source": [
        "movie_dummy = movie_dummy.dropna()\n",
        "movie_dummy.shape"
      ],
      "execution_count": 15,
      "outputs": [
        {
          "output_type": "execute_result",
          "data": {
            "text/plain": [
              "(4061, 279)"
            ]
          },
          "metadata": {
            "tags": []
          },
          "execution_count": 15
        }
      ]
    },
    {
      "cell_type": "code",
      "metadata": {
        "id": "1G1GNqhtqwap",
        "colab_type": "code",
        "colab": {}
      },
      "source": [
        "y_col = 'imdbRating'\n",
        "X = movie_dummy.drop(columns=[y_col])\n",
        "y = movie_dummy[y_col]\n",
        "\n",
        "X_train, X_test, y_train, y_test = train_test_split(X, y, \n",
        "                                                    test_size=0.2,\n",
        "                                                    random_state=42)"
      ],
      "execution_count": 0,
      "outputs": []
    },
    {
      "cell_type": "code",
      "metadata": {
        "id": "AbnuWqLqraGH",
        "colab_type": "code",
        "colab": {
          "base_uri": "https://localhost:8080/",
          "height": 599
        },
        "outputId": "6fbc5ea4-80c4-4e17-fcdf-a346de87f062"
      },
      "source": [
        "parameters = {\n",
        "    \"learning_rate\":[0.01],\n",
        "    \"n_estimators\":[1000],\n",
        "    \"max_depth\":[3],\n",
        "    \"subsample\":[0.8],\n",
        "    \"colsample_bytree\":[1],\n",
        "    \"gamma\":[1]\n",
        "}\n",
        "xgb = GridSearchCV(XGBRegressor(objective=\"reg:squarederror\"), param_grid=parameters, verbose=2)\n",
        "xgb.fit(X_train, y_train)"
      ],
      "execution_count": 22,
      "outputs": [
        {
          "output_type": "stream",
          "text": [
            "Fitting 5 folds for each of 1 candidates, totalling 5 fits\n",
            "[CV] colsample_bytree=1, gamma=1, learning_rate=0.01, max_depth=3, n_estimators=1000, subsample=0.8 \n"
          ],
          "name": "stdout"
        },
        {
          "output_type": "stream",
          "text": [
            "[Parallel(n_jobs=1)]: Using backend SequentialBackend with 1 concurrent workers.\n"
          ],
          "name": "stderr"
        },
        {
          "output_type": "stream",
          "text": [
            "[CV]  colsample_bytree=1, gamma=1, learning_rate=0.01, max_depth=3, n_estimators=1000, subsample=0.8, total=  16.8s\n",
            "[CV] colsample_bytree=1, gamma=1, learning_rate=0.01, max_depth=3, n_estimators=1000, subsample=0.8 \n"
          ],
          "name": "stdout"
        },
        {
          "output_type": "stream",
          "text": [
            "[Parallel(n_jobs=1)]: Done   1 out of   1 | elapsed:   16.8s remaining:    0.0s\n"
          ],
          "name": "stderr"
        },
        {
          "output_type": "stream",
          "text": [
            "[CV]  colsample_bytree=1, gamma=1, learning_rate=0.01, max_depth=3, n_estimators=1000, subsample=0.8, total=  16.9s\n",
            "[CV] colsample_bytree=1, gamma=1, learning_rate=0.01, max_depth=3, n_estimators=1000, subsample=0.8 \n",
            "[CV]  colsample_bytree=1, gamma=1, learning_rate=0.01, max_depth=3, n_estimators=1000, subsample=0.8, total=  17.0s\n",
            "[CV] colsample_bytree=1, gamma=1, learning_rate=0.01, max_depth=3, n_estimators=1000, subsample=0.8 \n",
            "[CV]  colsample_bytree=1, gamma=1, learning_rate=0.01, max_depth=3, n_estimators=1000, subsample=0.8, total=  17.0s\n",
            "[CV] colsample_bytree=1, gamma=1, learning_rate=0.01, max_depth=3, n_estimators=1000, subsample=0.8 \n",
            "[CV]  colsample_bytree=1, gamma=1, learning_rate=0.01, max_depth=3, n_estimators=1000, subsample=0.8, total=  17.0s\n"
          ],
          "name": "stdout"
        },
        {
          "output_type": "stream",
          "text": [
            "[Parallel(n_jobs=1)]: Done   5 out of   5 | elapsed:  1.4min finished\n"
          ],
          "name": "stderr"
        },
        {
          "output_type": "execute_result",
          "data": {
            "text/plain": [
              "GridSearchCV(cv=None, error_score=nan,\n",
              "             estimator=XGBRegressor(base_score=0.5, booster='gbtree',\n",
              "                                    colsample_bylevel=1, colsample_bynode=1,\n",
              "                                    colsample_bytree=1, gamma=0,\n",
              "                                    importance_type='gain', learning_rate=0.1,\n",
              "                                    max_delta_step=0, max_depth=3,\n",
              "                                    min_child_weight=1, missing=None,\n",
              "                                    n_estimators=100, n_jobs=1, nthread=None,\n",
              "                                    objective='reg:squarederror',\n",
              "                                    random_state=0, reg_alpha=0, reg_lambda=1,\n",
              "                                    scale_pos_weight=1, seed=None, silent=None,\n",
              "                                    subsample=1, verbosity=1),\n",
              "             iid='deprecated', n_jobs=None,\n",
              "             param_grid={'colsample_bytree': [1], 'gamma': [1],\n",
              "                         'learning_rate': [0.01], 'max_depth': [3],\n",
              "                         'n_estimators': [1000], 'subsample': [0.8]},\n",
              "             pre_dispatch='2*n_jobs', refit=True, return_train_score=False,\n",
              "             scoring=None, verbose=2)"
            ]
          },
          "metadata": {
            "tags": []
          },
          "execution_count": 22
        }
      ]
    },
    {
      "cell_type": "code",
      "metadata": {
        "id": "8VozPyyAqwaz",
        "colab_type": "code",
        "colab": {
          "base_uri": "https://localhost:8080/",
          "height": 54
        },
        "outputId": "fc62de76-6f8f-4491-e3ce-389b71a04cc3"
      },
      "source": [
        "train_score = xgb.score(X_train, y_train)\n",
        "test_score = xgb.score(X_test, y_test)\n",
        "\n",
        "print(f'Train score: {train_score:.2f}')\n",
        "print(f'Test score: {test_score:.2f}')"
      ],
      "execution_count": 23,
      "outputs": [
        {
          "output_type": "stream",
          "text": [
            "Train score: 0.45\n",
            "Test score: 0.40\n"
          ],
          "name": "stdout"
        }
      ]
    },
    {
      "cell_type": "code",
      "metadata": {
        "id": "bFHu0qugqwa3",
        "colab_type": "code",
        "colab": {
          "base_uri": "https://localhost:8080/",
          "height": 279
        },
        "outputId": "f3977db0-5ff9-4df0-97b0-9543b4748643"
      },
      "source": [
        "y_pred = xgb.predict(X_test)\n",
        "\n",
        "min_pred = min(y_pred)\n",
        "max_pred = max(y_pred)\n",
        "x = [min_pred, max_pred]\n",
        "y = [min_pred, max_pred]\n",
        "\n",
        "plt.scatter(y_pred, y_test)\n",
        "plt.plot(x, y)\n",
        "plt.xlabel('Fitted')\n",
        "plt.ylabel('Actual')\n",
        "plt.xlim((min_pred, max_pred))\n",
        "plt.ylim((min_pred, max_pred))\n",
        "plt.show()"
      ],
      "execution_count": 28,
      "outputs": [
        {
          "output_type": "display_data",
          "data": {
            "image/png": "[encoded data removed]",
            "text/plain": [
              "<Figure size 432x288 with 1 Axes>"
            ]
          },
          "metadata": {
            "tags": []
          }
        }
      ]
    }
  ]
}