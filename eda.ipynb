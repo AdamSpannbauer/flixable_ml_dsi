{
 "cells": [
  {
   "cell_type": "code",
   "execution_count": 1,
   "metadata": {},
   "outputs": [],
   "source": [
    "import glob\n",
    "import pandas as pd\n",
    "import numpy as np\n",
    "import seaborn as sns\n",
    "import matplotlib.pyplot as plt\n",
    "%matplotlib inline\n",
    "\n",
    "\n",
    "csv_files = glob.glob('data/movies_*.csv')\n",
    "\n",
    "dfs = []\n",
    "for csv_file in csv_files:\n",
    "    df = pd.read_csv(csv_file)\n",
    "    dfs.append(df)\n",
    "    \n",
    "movie = pd.concat(dfs)\n",
    "movie = movie.drop_duplicates().reset_index(drop=True)"
   ]
  },
  {
   "cell_type": "markdown",
   "metadata": {},
   "source": [
    "## Data Cleaning\n",
    "\n",
    "### TODO:\n",
    "* Figure out what to do with list columns like Country, Language, Writer, etc."
   ]
  },
  {
   "cell_type": "code",
   "execution_count": 2,
   "metadata": {},
   "outputs": [],
   "source": [
    "def extract_rotten_rating(rating):\n",
    "    try:\n",
    "        ratings = json.loads(rating.replace(\"'\", '\"'))\n",
    "        for rating in ratings:\n",
    "            if rating['Source'] == 'Rotten Tomatoes':\n",
    "                return float(rating['Value'].replace('%', ''))\n",
    "    except:\n",
    "        return np.nan"
   ]
  },
  {
   "cell_type": "code",
   "execution_count": 3,
   "metadata": {},
   "outputs": [],
   "source": [
    "# Custom function to extract rotten tomatoes ratings\n",
    "movie['Ratings'] = movie['Ratings'].apply(extract_rotten_rating)\n",
    "\n",
    "# Convert numeric columns stored as strings\n",
    "movie['Runtime'] = pd.to_numeric(movie['Runtime'].str.split(' ').str[0])\n",
    "movie['BoxOffice'] = pd.to_numeric(movie['BoxOffice'].str.replace(r'[\\$,]', ''))\n",
    "movie['imdbVotes'] = pd.to_numeric(movie['imdbVotes'].str.replace(',', ''))\n",
    "\n",
    "# Convert datetime columns stored as strings\n",
    "movie['Released'] = pd.to_datetime(movie['Released'])\n",
    "movie['added_to_netflix'] = pd.to_datetime(movie['added_to_netflix'])\n",
    "\n",
    "# Extract numbers from Awards columns\n",
    "movie['award_wins'] = movie['Awards'].str.extract(r'(\\d) win').astype(float)\n",
    "movie['award_noms'] = movie['Awards'].str.extract(r'(\\d) nomination').astype(float)\n",
    "movie['oscar_wins'] = movie['Awards'].str.extract(r'Nominated for (\\d) Oscar').astype(float)"
   ]
  },
  {
   "cell_type": "code",
   "execution_count": 4,
   "metadata": {},
   "outputs": [],
   "source": [
    "drop_columns = ['Poster', 'flixable_url', 'Response', \n",
    "                'Awards', 'Rated', 'imdbID', 'DVD', 'Website']\n",
    "\n",
    "movie = movie.drop(columns=drop_columns)"
   ]
  },
  {
   "cell_type": "markdown",
   "metadata": {},
   "source": [
    "## EDA\n",
    "\n",
    "### TODO:\n",
    "* More"
   ]
  },
  {
   "cell_type": "code",
   "execution_count": 7,
   "metadata": {},
   "outputs": [
    {
     "data": {
      "image/png": "[encoded data removed]",
      "text/plain": [
       "<Figure size 432x288 with 1 Axes>"
      ]
     },
     "metadata": {
      "needs_background": "light"
     },
     "output_type": "display_data"
    },
    {
     "data": {
      "image/png": "[encoded data removed]",
      "text/plain": [
       "<Figure size 432x288 with 1 Axes>"
      ]
     },
     "metadata": {
      "needs_background": "light"
     },
     "output_type": "display_data"
    }
   ],
   "source": [
    "plot_cols = ['Type', 'mpaa_rating']\n",
    "for plot_col in plot_cols:\n",
    "    fig = sns.countplot(plot_col, data=movie)\n",
    "    fig.set_xticklabels(fig.get_xticklabels(), rotation=90)\n",
    "    plt.show()"
   ]
  }
 ],
 "metadata": {
  "kernelspec": {
   "display_name": "Python 3",
   "language": "python",
   "name": "python3"
  },
  "language_info": {
   "codemirror_mode": {
    "name": "ipython",
    "version": 3
   },
   "file_extension": ".py",
   "mimetype": "text/x-python",
   "name": "python",
   "nbconvert_exporter": "python",
   "pygments_lexer": "ipython3",
   "version": "3.7.6"
  }
 },
 "nbformat": 4,
 "nbformat_minor": 4
}
